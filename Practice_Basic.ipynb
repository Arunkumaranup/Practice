{
 "cells": [
  {
   "cell_type": "markdown",
   "id": "a9dfa227-e446-437f-94ed-bd5b6a7c2757",
   "metadata": {
    "tags": []
   },
   "source": [
    "# Introduction to Python\n",
    "## This is practice Notebook\n",
    "\n",
    "\n",
    "\n"
   ]
  },
  {
   "cell_type": "code",
   "execution_count": 6,
   "id": "8de89bca-5bc5-49f0-9136-33a9fe8273ed",
   "metadata": {},
   "outputs": [
    {
     "name": "stdout",
     "output_type": "stream",
     "text": [
      "I'm new to Python\n"
     ]
    }
   ],
   "source": [
    "print (\"I'm new to Python\")"
   ]
  },
  {
   "cell_type": "code",
   "execution_count": 9,
   "id": "3004176c-aa8e-4ff1-a5b6-2646f63d5453",
   "metadata": {},
   "outputs": [
    {
     "name": "stdin",
     "output_type": "stream",
     "text": [
      "what is your name: Arun\n"
     ]
    }
   ],
   "source": [
    "name = input(\"what is your name:\")"
   ]
  },
  {
   "cell_type": "code",
   "execution_count": 80,
   "id": "69c1ed53-0d35-45a9-b0f3-6b5d945a2453",
   "metadata": {},
   "outputs": [
    {
     "name": "stdout",
     "output_type": "stream",
     "text": [
      "your age is  Arun\n",
      "4\n"
     ]
    }
   ],
   "source": [
    "print(\"your age is \", name)\n",
    "print(len(name))"
   ]
  },
  {
   "cell_type": "code",
   "execution_count": 12,
   "id": "ad47a611-784f-4048-878a-569ccf3b195c",
   "metadata": {},
   "outputs": [
    {
     "name": "stdout",
     "output_type": "stream",
     "text": [
      "     ^      \n",
      "    / \\     \n",
      "   / ^ \\    \n",
      "  /  ^  \\   \n",
      " /   ^   \\  \n"
     ]
    }
   ],
   "source": [
    "print(\"     ^      \")\n",
    "print(\"    / \\     \")\n",
    "print(\"   / ^ \\    \")\n",
    "print(\"  /  ^  \\   \")\n",
    "print(\" /   ^   \\  \")"
   ]
  },
  {
   "cell_type": "code",
   "execution_count": 15,
   "id": "a15409be-c681-402d-93a8-a654fc2b6d2d",
   "metadata": {},
   "outputs": [
    {
     "name": "stdout",
     "output_type": "stream",
     "text": [
      "Arun Arun Arun Arun Arun \n"
     ]
    }
   ],
   "source": [
    "print (\"Arun \"* 5)"
   ]
  },
  {
   "cell_type": "code",
   "execution_count": 17,
   "id": "6b4d1d8a-dc39-4c31-a866-fa701b56c7a5",
   "metadata": {},
   "outputs": [
    {
     "name": "stdout",
     "output_type": "stream",
     "text": [
      "10000\n"
     ]
    }
   ],
   "source": [
    "var = 100\n",
    "print(var*var)"
   ]
  },
  {
   "cell_type": "code",
   "execution_count": 35,
   "id": "c6e062c3-153e-4239-9091-582cd275625a",
   "metadata": {},
   "outputs": [
    {
     "ename": "NameError",
     "evalue": "name 'Varma' is not defined",
     "output_type": "error",
     "traceback": [
      "\u001b[0;31m---------------------------------------------------------------------------\u001b[0m",
      "\u001b[0;31mNameError\u001b[0m                                 Traceback (most recent call last)",
      "\u001b[0;32m<ipython-input-35-f78c79e854e9>\u001b[0m in \u001b[0;36m<module>\u001b[0;34m\u001b[0m\n\u001b[0;32m----> 1\u001b[0;31m \u001b[0mVar1\u001b[0m \u001b[0;34m=\u001b[0m \u001b[0mVarma\u001b[0m\u001b[0;34m\u001b[0m\u001b[0;34m\u001b[0m\u001b[0m\n\u001b[0m\u001b[1;32m      2\u001b[0m \u001b[0mprint\u001b[0m\u001b[0;34m(\u001b[0m\u001b[0mVar1\u001b[0m\u001b[0;34m)\u001b[0m\u001b[0;34m\u001b[0m\u001b[0;34m\u001b[0m\u001b[0m\n\u001b[1;32m      3\u001b[0m \u001b[0mprint\u001b[0m\u001b[0;34m(\u001b[0m\u001b[0mtype\u001b[0m\u001b[0;34m(\u001b[0m\u001b[0mVar1\u001b[0m\u001b[0;34m)\u001b[0m\u001b[0;34m)\u001b[0m\u001b[0;34m\u001b[0m\u001b[0;34m\u001b[0m\u001b[0m\n",
      "\u001b[0;31mNameError\u001b[0m: name 'Varma' is not defined"
     ]
    }
   ],
   "source": [
    "Var1 = Varma\n",
    "print(Var1)\n",
    "print(type(Var1))"
   ]
  },
  {
   "cell_type": "code",
   "execution_count": 21,
   "id": "3f0bf531-a237-4eec-b990-c570f5249fb5",
   "metadata": {},
   "outputs": [
    {
     "name": "stdin",
     "output_type": "stream",
     "text": [
      "enter your pet name :  Rocky\n"
     ]
    },
    {
     "name": "stdout",
     "output_type": "stream",
     "text": [
      "pet name : Rocky\n"
     ]
    }
   ],
   "source": [
    "pet_name = input(\"enter your pet name : \")\n",
    "print(\"pet name :\", pet_name)"
   ]
  },
  {
   "cell_type": "code",
   "execution_count": 32,
   "id": "a6ed1d6b-0d7c-40f5-a9e8-237d0122a97a",
   "metadata": {},
   "outputs": [
    {
     "name": "stdin",
     "output_type": "stream",
     "text": [
      "what is your age 2\n"
     ]
    },
    {
     "name": "stdout",
     "output_type": "stream",
     "text": [
      "you are  24  Months old\n",
      "<class 'str'>\n"
     ]
    }
   ],
   "source": [
    "#print the age in the months\n",
    "in_age  = input(\"what is your age\")\n",
    "age = int(in_age)\n",
    "print(\"you are \", age*12, \" Months old\")\n",
    "type(in_age)\n",
    "type(age)\n",
    "print(type(in_age))"
   ]
  },
  {
   "cell_type": "code",
   "execution_count": 40,
   "id": "3f44e2e2-1a99-4c1e-8c17-bf33cd02447e",
   "metadata": {},
   "outputs": [],
   "source": [
    "a=10\n",
    "b=3"
   ]
  },
  {
   "cell_type": "code",
   "execution_count": 42,
   "id": "8a1d7ec5-38a4-4e4e-b3aa-b65a32a95747",
   "metadata": {},
   "outputs": [
    {
     "name": "stdout",
     "output_type": "stream",
     "text": [
      "a+b 13\n",
      "a-b 7\n",
      "a*b 30\n",
      "a/b 3.3333333333333335\n",
      "a//b 3\n",
      "a%b 1\n",
      "a**b 1000\n"
     ]
    }
   ],
   "source": [
    "print (\"a+b\", a+b)\n",
    "print (\"a-b\", a-b)\n",
    "print (\"a*b\", a*b)\n",
    "print (\"a/b\", a/b)\n",
    "print (\"a//b\", a//b)\n",
    "print (\"a%b\", a%b)\n",
    "print (\"a**b\", a**b)\n"
   ]
  },
  {
   "cell_type": "code",
   "execution_count": 50,
   "id": "e57b263e-f101-4f36-a987-8de74b714730",
   "metadata": {},
   "outputs": [
    {
     "name": "stdout",
     "output_type": "stream",
     "text": [
      "68\n"
     ]
    }
   ],
   "source": [
    "print(4+64-3**2%1)"
   ]
  },
  {
   "cell_type": "code",
   "execution_count": 59,
   "id": "e1fb3a2b-4b0a-42d5-a2af-a3a6f66c042a",
   "metadata": {},
   "outputs": [
    {
     "name": "stdout",
     "output_type": "stream",
     "text": [
      "3.5\n"
     ]
    }
   ],
   "source": [
    "x = 3\n",
    "y = 2.5\n",
    "z = 5\n",
    "print(x + y / z)"
   ]
  },
  {
   "cell_type": "code",
   "execution_count": 53,
   "id": "9fce0ab3-9544-47e2-bc78-209e1213ff75",
   "metadata": {},
   "outputs": [
    {
     "name": "stdout",
     "output_type": "stream",
     "text": [
      "-2\n"
     ]
    }
   ],
   "source": [
    "print(4 % (1 + 9)**2 - 60 // (7 + 2))"
   ]
  },
  {
   "cell_type": "code",
   "execution_count": 67,
   "id": "ecc82633-8a46-4813-8d05-aab847ce2ac7",
   "metadata": {},
   "outputs": [
    {
     "name": "stdout",
     "output_type": "stream",
     "text": [
      "Python\n",
      "Pytho\n",
      "Python\n"
     ]
    }
   ],
   "source": [
    "#sting operation\n",
    "statemnet = \"I love Python programming\"\n",
    "\n",
    "print(statemnet[7:13])\n",
    "print(statemnet[7:12])\n",
    "print(statemnet[-18:-12])"
   ]
  },
  {
   "cell_type": "code",
   "execution_count": 68,
   "id": "f5a84705-2b54-4974-852a-c90818576158",
   "metadata": {},
   "outputs": [
    {
     "name": "stdin",
     "output_type": "stream",
     "text": [
      "What flavour would you like  vanilla\n",
      "What type of dessert would you like  black_current\n"
     ]
    },
    {
     "name": "stdout",
     "output_type": "stream",
     "text": [
      "You have ordered vanilla-black_current\n"
     ]
    }
   ],
   "source": [
    "#Let's try building a system that could ask for flavour, and the type of desert user wants\n",
    "flavour=input(\"What flavour would you like \")\n",
    "dessert_type=input(\"What type of dessert would you like \")\n",
    "print(\"You have ordered\", flavour+\"-\"+dessert_type)"
   ]
  },
  {
   "cell_type": "code",
   "execution_count": 101,
   "id": "e0cc1600-200b-49db-9e51-b1a121bedff2",
   "metadata": {},
   "outputs": [
    {
     "name": "stdin",
     "output_type": "stream",
     "text": [
      "please enter the string: axb#z#\n"
     ]
    },
    {
     "name": "stdout",
     "output_type": "stream",
     "text": [
      "abz,x\n"
     ]
    }
   ],
   "source": [
    "import ast,sys\n",
    "input_str = input(\"please enter the string:\")\n",
    "#Type your code here\n",
    "i = 0 \n",
    "message1 = \"\"\n",
    "message2 = \"\"\n",
    "for i in range(len(input_str)):\n",
    "    if i % 2 == 0:\n",
    "        if input_str[i] != '#':\n",
    "         message1 = message1 + input_str[i]\n",
    "    elif i % 2 == 1:\n",
    "        if input_str[i] != '#':\n",
    "         message2 = message2 + input_str[i]\n",
    "print(message1+','+message2)"
   ]
  },
  {
   "cell_type": "code",
   "execution_count": 9,
   "id": "33bc491f-827c-4f59-93eb-d2b589d2948b",
   "metadata": {},
   "outputs": [
    {
     "name": "stdout",
     "output_type": "stream",
     "text": [
      "Pythons syntax is easy to learn & Pythons syntax is very clear\n",
      "Ravi\n",
      "Kumar\n",
      "003\n"
     ]
    }
   ],
   "source": [
    "#list\n",
    "\n",
    "L = ['Pythons syntax is easy to learn', 'Pythons syntax is very clear'] \n",
    "\n",
    "output_string = L[0] + ' & ' + L[1] \n",
    "print(output_string)\n",
    "\n",
    "#split the string\n",
    "\n",
    "str1 = \"Kumar_Ravi_003\"\n",
    "\n",
    "L1 = str1.split('_')\n",
    "\n",
    "print(L1[1])\n",
    "print(L1[0])\n",
    "print(L1[2])\n",
    "\n"
   ]
  },
  {
   "cell_type": "code",
   "execution_count": 12,
   "id": "852f0005-e493-44fa-8e82-595f08d80b97",
   "metadata": {},
   "outputs": [
    {
     "ename": "TypeError",
     "evalue": "'tuple' object does not support item assignment",
     "output_type": "error",
     "traceback": [
      "\u001b[0;31m---------------------------------------------------------------------------\u001b[0m",
      "\u001b[0;31mTypeError\u001b[0m                                 Traceback (most recent call last)",
      "\u001b[0;32m<ipython-input-12-abf56fadb95a>\u001b[0m in \u001b[0;36m<module>\u001b[0;34m\u001b[0m\n\u001b[1;32m      2\u001b[0m \u001b[0;34m\u001b[0m\u001b[0m\n\u001b[1;32m      3\u001b[0m \u001b[0mx\u001b[0m \u001b[0;34m=\u001b[0m\u001b[0;34m(\u001b[0m\u001b[0;36m1\u001b[0m\u001b[0;34m,\u001b[0m\u001b[0;36m2\u001b[0m\u001b[0;34m,\u001b[0m\u001b[0;36m3\u001b[0m\u001b[0;34m)\u001b[0m\u001b[0;34m\u001b[0m\u001b[0;34m\u001b[0m\u001b[0m\n\u001b[0;32m----> 4\u001b[0;31m \u001b[0mx\u001b[0m\u001b[0;34m[\u001b[0m\u001b[0;36m2\u001b[0m\u001b[0;34m]\u001b[0m \u001b[0;34m=\u001b[0m \u001b[0;36m5\u001b[0m\u001b[0;34m\u001b[0m\u001b[0;34m\u001b[0m\u001b[0m\n\u001b[0m\u001b[1;32m      5\u001b[0m \u001b[0mprint\u001b[0m\u001b[0;34m(\u001b[0m\u001b[0mx\u001b[0m\u001b[0;34m)\u001b[0m\u001b[0;34m\u001b[0m\u001b[0;34m\u001b[0m\u001b[0m\n",
      "\u001b[0;31mTypeError\u001b[0m: 'tuple' object does not support item assignment"
     ]
    }
   ],
   "source": [
    "#tuple\n",
    "\n",
    "x =(1,2,3) \n",
    "x[2] = 5\n",
    "print(x)"
   ]
  },
  {
   "cell_type": "code",
   "execution_count": 29,
   "id": "1d964706-3828-43f1-bdc8-fa1ed2e571f3",
   "metadata": {},
   "outputs": [
    {
     "ename": "IndexError",
     "evalue": "tuple index out of range",
     "output_type": "error",
     "traceback": [
      "\u001b[0;31m---------------------------------------------------------------------------\u001b[0m",
      "\u001b[0;31mIndexError\u001b[0m                                Traceback (most recent call last)",
      "\u001b[0;32m<ipython-input-29-e915fefc6431>\u001b[0m in \u001b[0;36m<module>\u001b[0;34m\u001b[0m\n\u001b[1;32m      1\u001b[0m \u001b[0;31m#tuple\u001b[0m\u001b[0;34m\u001b[0m\u001b[0;34m\u001b[0m\u001b[0;34m\u001b[0m\u001b[0m\n\u001b[1;32m      2\u001b[0m \u001b[0mt\u001b[0m \u001b[0;34m=\u001b[0m \u001b[0;34m(\u001b[0m\u001b[0;36m1\u001b[0m\u001b[0;34m,\u001b[0m \u001b[0;36m2\u001b[0m\u001b[0;34m,\u001b[0m \u001b[0;36m4\u001b[0m\u001b[0;34m,\u001b[0m \u001b[0;36m3\u001b[0m\u001b[0;34m)\u001b[0m\u001b[0;34m\u001b[0m\u001b[0;34m\u001b[0m\u001b[0m\n\u001b[0;32m----> 3\u001b[0;31m \u001b[0mprint\u001b[0m\u001b[0;34m(\u001b[0m\u001b[0mt\u001b[0m\u001b[0;34m[\u001b[0m\u001b[0;36m4\u001b[0m\u001b[0;34m]\u001b[0m\u001b[0;34m)\u001b[0m\u001b[0;34m\u001b[0m\u001b[0;34m\u001b[0m\u001b[0m\n\u001b[0m\u001b[1;32m      4\u001b[0m \u001b[0mprint\u001b[0m\u001b[0;34m(\u001b[0m\u001b[0mt\u001b[0m\u001b[0;34m[\u001b[0m\u001b[0;36m2\u001b[0m\u001b[0;34m:\u001b[0m\u001b[0;36m5\u001b[0m\u001b[0;34m]\u001b[0m\u001b[0;34m)\u001b[0m\u001b[0;34m\u001b[0m\u001b[0;34m\u001b[0m\u001b[0m\n",
      "\u001b[0;31mIndexError\u001b[0m: tuple index out of range"
     ]
    }
   ],
   "source": [
    "#tuple\n",
    "t = (1, 2, 4, 3)\n",
    "print(t[4])\n",
    "print(t[2:5])"
   ]
  },
  {
   "cell_type": "code",
   "execution_count": 34,
   "id": "0102af64-4817-4aab-91ad-3be63d926dd3",
   "metadata": {},
   "outputs": [
    {
     "ename": "NameError",
     "evalue": "name 'Hello' is not defined",
     "output_type": "error",
     "traceback": [
      "\u001b[0;31m---------------------------------------------------------------------------\u001b[0m",
      "\u001b[0;31mNameError\u001b[0m                                 Traceback (most recent call last)",
      "\u001b[0;32m<ipython-input-34-e5cf858ddfc3>\u001b[0m in \u001b[0;36m<module>\u001b[0;34m\u001b[0m\n\u001b[0;32m----> 1\u001b[0;31m \u001b[0mx\u001b[0m \u001b[0;34m=\u001b[0m  \u001b[0;34m(\u001b[0m\u001b[0mHello\u001b[0m\u001b[0;34m,\u001b[0m\u001b[0;34m'2'\u001b[0m\u001b[0;34m,\u001b[0m\u001b[0;34m'3'\u001b[0m\u001b[0;34m)\u001b[0m\u001b[0;34m\u001b[0m\u001b[0;34m\u001b[0m\u001b[0m\n\u001b[0m\u001b[1;32m      2\u001b[0m \u001b[0mtype\u001b[0m\u001b[0;34m(\u001b[0m\u001b[0mx\u001b[0m\u001b[0;34m)\u001b[0m\u001b[0;34m\u001b[0m\u001b[0;34m\u001b[0m\u001b[0m\n",
      "\u001b[0;31mNameError\u001b[0m: name 'Hello' is not defined"
     ]
    }
   ],
   "source": [
    "x =  (Hello,'2','3')\n",
    "type(x)"
   ]
  },
  {
   "cell_type": "code",
   "execution_count": 43,
   "id": "f07b6ff3-b79d-489c-a56a-e96b8fda7d3e",
   "metadata": {},
   "outputs": [
    {
     "name": "stdout",
     "output_type": "stream",
     "text": [
      "('Monty Python', 'British', 1969, 'Python')\n"
     ]
    }
   ],
   "source": [
    "#tuple add an element\n",
    "\n",
    "input_tuple = ('Monty Python', 'British', 1969)\n",
    "add = ('Python',)\n",
    "\n",
    "new_t = tuple(input_tuple[0:] +  add[0:])\n",
    "type(new_t)\n",
    "print(new_t)"
   ]
  },
  {
   "cell_type": "code",
   "execution_count": null,
   "id": "ca355783-b110-4122-aee0-07900ab2bfc9",
   "metadata": {},
   "outputs": [],
   "source": [
    "#sets\n",
    "\n",
    "#return the common elements in the list\n",
    "\n",
    "A = [5, 1, 3, 4, 4, 5, 6, 7]\n",
    "\n",
    "B = [3, 3, 5, 5, 1 ,7 ,2]\n",
    "\n",
    "s_A = set(A)\n",
    "s_B = set(B)\n",
    "\n",
    "common = s_A & s_B\n",
    "result = list(common)\n",
    "print(result)\n"
   ]
  },
  {
   "cell_type": "code",
   "execution_count": 55,
   "id": "ddbc9057-7a5f-4e73-ae01-b99ebde958db",
   "metadata": {},
   "outputs": [
    {
     "name": "stdout",
     "output_type": "stream",
     "text": [
      "5\n"
     ]
    }
   ],
   "source": [
    "nums = set([1,1,2,3,3,3,4,5])\n",
    "print(len(nums))"
   ]
  },
  {
   "cell_type": "code",
   "execution_count": 72,
   "id": "56df6598-b100-41a1-9d0b-c690f0097213",
   "metadata": {},
   "outputs": [
    {
     "name": "stdout",
     "output_type": "stream",
     "text": [
      "Content Strategist\n"
     ]
    }
   ],
   "source": [
    "#Dictionary\n",
    "\n",
    "input_dict = { 102:['Shiva', 24, 'Content Strategist'],104:['Udit',25,'Content Strategist'], 105:['Huzefa',32,'Project Manager' ]}\n",
    "\n",
    "\n",
    "emp = input_dict[104][2]\n",
    "emp\n",
    "print(emp)"
   ]
  },
  {
   "cell_type": "code",
   "execution_count": 107,
   "id": "877fa0e3-0cd7-44f2-b195-628b72303f24",
   "metadata": {},
   "outputs": [
    {
     "name": "stdout",
     "output_type": "stream",
     "text": [
      "fouund\n"
     ]
    }
   ],
   "source": [
    "d = {'Name': 'Monty', 'Profession': 'Singer' }\n",
    "\n",
    "if \"Name\" in d:\n",
    "    print(\"fouund\")   \n",
    "else:\n",
    "    print(\"not found\")"
   ]
  },
  {
   "cell_type": "code",
   "execution_count": 103,
   "id": "5ff45f40-2207-4263-a930-73706c3a4394",
   "metadata": {},
   "outputs": [
    {
     "name": "stdout",
     "output_type": "stream",
     "text": [
      "NA\n"
     ]
    }
   ],
   "source": [
    "d = {'Name': 'Monty', 'Profession': 'Singer' }\n",
    "\n",
    "if d.get(\"Lable\") is None:\n",
    "    answer = 'NA'\n",
    "    print(answer)\n",
    "else:\n",
    "    print(\"key found\")\n",
    "    \n",
    "    "
   ]
  },
  {
   "cell_type": "code",
   "execution_count": 114,
   "id": "90cb900c-d90d-435e-bb67-e14b3845b8e3",
   "metadata": {},
   "outputs": [
    {
     "name": "stdout",
     "output_type": "stream",
     "text": [
      "['Amazon', 'Apple', 'RJIO', 'Twitter']\n"
     ]
    }
   ],
   "source": [
    "input_dict = {'Jack Dorsey' : 'Twitter' , 'Tim Cook' : 'Apple','Jeff Bezos' : 'Amazon' ,'Mukesh Ambani' : 'RJIO'}\n",
    "sorted(input_dict.values())\n",
    "print(sorted(input_dict.values()))"
   ]
  },
  {
   "cell_type": "code",
   "execution_count": 128,
   "id": "44fc75f9-d254-40d8-9df2-7d43b2e54dc6",
   "metadata": {},
   "outputs": [
    {
     "ename": "SyntaxError",
     "evalue": "invalid syntax (<ipython-input-128-691ecc7838b7>, line 5)",
     "output_type": "error",
     "traceback": [
      "\u001b[0;36m  File \u001b[0;32m\"<ipython-input-128-691ecc7838b7>\"\u001b[0;36m, line \u001b[0;32m5\u001b[0m\n\u001b[0;31m    del dict_1('R':40)\u001b[0m\n\u001b[0m                  ^\u001b[0m\n\u001b[0;31mSyntaxError\u001b[0m\u001b[0;31m:\u001b[0m invalid syntax\n"
     ]
    }
   ],
   "source": [
    "dict_1 = {\"Python\":40, \"R\":45}\n",
    "#dict_1.delete('R':45)\n",
    "#del dict_1['R']\n",
    "#del dict_1\n",
    "del dict_1('R':40)\n",
    "dict_1\n",
    "\n",
    "\n"
   ]
  },
  {
   "cell_type": "code",
   "execution_count": 129,
   "id": "bddc0603-3dc8-4f5b-901b-0f79a75ea4e1",
   "metadata": {},
   "outputs": [
    {
     "name": "stdout",
     "output_type": "stream",
     "text": [
      "['Python', 'R']\n"
     ]
    }
   ],
   "source": [
    "d = {'Python':40, 'R':45}\n",
    "print(list(d.keys()))"
   ]
  },
  {
   "cell_type": "code",
   "execution_count": 133,
   "id": "7748791a-6ca3-4e7f-9b82-1a0ae5cc06cc",
   "metadata": {},
   "outputs": [
    {
     "name": "stdout",
     "output_type": "stream",
     "text": [
      "c\n"
     ]
    }
   ],
   "source": [
    "a=10\n",
    "b=16\n",
    "c=20\n",
    "\n",
    "if( a > b and a > c ):\n",
    "    print(\"a\")\n",
    "elif( b > a and b > c):\n",
    "    print(\"b\")\n",
    "else:\n",
    "     print(\"c\")\n",
    "        "
   ]
  },
  {
   "cell_type": "code",
   "execution_count": 135,
   "id": "08e2696b-1236-4af8-b491-15dfbcda2942",
   "metadata": {},
   "outputs": [
    {
     "ename": "NameError",
     "evalue": "name 'score' is not defined",
     "output_type": "error",
     "traceback": [
      "\u001b[0;31m---------------------------------------------------------------------------\u001b[0m",
      "\u001b[0;31mNameError\u001b[0m                                 Traceback (most recent call last)",
      "\u001b[0;32m<ipython-input-135-049fc6261257>\u001b[0m in \u001b[0;36m<module>\u001b[0;34m\u001b[0m\n\u001b[1;32m      1\u001b[0m \u001b[0;31m#Given the code below, the output obtained in several runs is 'C' 'A' 'D' 'B'.\u001b[0m\u001b[0;34m\u001b[0m\u001b[0;34m\u001b[0m\u001b[0;34m\u001b[0m\u001b[0m\n\u001b[0;32m----> 2\u001b[0;31m \u001b[0;32mif\u001b[0m \u001b[0mscore\u001b[0m \u001b[0;34m>=\u001b[0m \u001b[0;36m90\u001b[0m\u001b[0;34m:\u001b[0m\u001b[0;34m\u001b[0m\u001b[0;34m\u001b[0m\u001b[0m\n\u001b[0m\u001b[1;32m      3\u001b[0m    \u001b[0mprint\u001b[0m\u001b[0;34m(\u001b[0m\u001b[0;34m'A'\u001b[0m\u001b[0;34m)\u001b[0m\u001b[0;34m\u001b[0m\u001b[0;34m\u001b[0m\u001b[0m\n\u001b[1;32m      4\u001b[0m \u001b[0;32melif\u001b[0m \u001b[0mscore\u001b[0m \u001b[0;34m>=\u001b[0m\u001b[0;36m80\u001b[0m\u001b[0;34m:\u001b[0m\u001b[0;34m\u001b[0m\u001b[0;34m\u001b[0m\u001b[0m\n\u001b[1;32m      5\u001b[0m    \u001b[0mprint\u001b[0m\u001b[0;34m(\u001b[0m\u001b[0;34m'B'\u001b[0m\u001b[0;34m)\u001b[0m\u001b[0;34m\u001b[0m\u001b[0;34m\u001b[0m\u001b[0m\n",
      "\u001b[0;31mNameError\u001b[0m: name 'score' is not defined"
     ]
    }
   ],
   "source": [
    "#Given the code below, the output obtained in several runs is 'C' 'A' 'D' 'B'.\n",
    "if score >= 90:\n",
    "   print('A')\n",
    "elif score >=80:\n",
    "   print('B')\n",
    "elif score >= 70:\n",
    "   print('C')\n",
    "elif score >= 60:\n",
    "   print('D')\n",
    "else:\n",
    "   print('F')"
   ]
  },
  {
   "cell_type": "code",
   "execution_count": 136,
   "id": "bf0ebd3e-f94f-4e10-92b6-1e4f530f791e",
   "metadata": {},
   "outputs": [
    {
     "name": "stdout",
     "output_type": "stream",
     "text": [
      "B\n"
     ]
    }
   ],
   "source": [
    "if (10 < 0) and (0 < -10):\n",
    "    print(\"A\")\n",
    "elif (10 > 0) or False:\n",
    "    print(\"B\")\n",
    "else:\n",
    "    print(\"C\")"
   ]
  },
  {
   "cell_type": "code",
   "execution_count": 138,
   "id": "1281b796-9104-4f52-bb31-565e900bed0f",
   "metadata": {},
   "outputs": [
    {
     "name": "stdout",
     "output_type": "stream",
     "text": [
      "B\n"
     ]
    }
   ],
   "source": [
    "if True or True:\n",
    "    if False and True or False:\n",
    "        print('A')\n",
    "    elif False and False or True and True:\n",
    "        print('B')\n",
    "    else:\n",
    "        print('C')\n",
    "else:\n",
    "    print('D')"
   ]
  },
  {
   "cell_type": "code",
   "execution_count": 142,
   "id": "d90be7c0-5a64-4fc0-850d-580e0a1b481e",
   "metadata": {},
   "outputs": [
    {
     "name": "stdin",
     "output_type": "stream",
     "text": [
      "please enter a string arun\n"
     ]
    },
    {
     "name": "stdout",
     "output_type": "stream",
     "text": [
      "YES\n"
     ]
    }
   ],
   "source": [
    "input_str = input(\"please enter a string\")\n",
    "vowel_list = ['a', 'e', 'i', 'o', 'u']\n",
    "c = input_str[0]\n",
    "if c in vowel_list:\n",
    "    print(\"YES\")\n",
    "else:\n",
    "    print(\"NO\")"
   ]
  },
  {
   "cell_type": "code",
   "execution_count": 155,
   "id": "11853a8d-d0f8-4c3a-866d-2b45cc34545f",
   "metadata": {},
   "outputs": [
    {
     "name": "stdout",
     "output_type": "stream",
     "text": [
      "100\n",
      "95\n",
      "90\n",
      "85\n",
      "80\n",
      "75\n",
      "70\n",
      "65\n",
      "60\n",
      "55\n",
      "50\n",
      "45\n",
      "40\n",
      "35\n",
      "30\n",
      "25\n",
      "20\n",
      "15\n",
      "10\n",
      "5\n"
     ]
    }
   ],
   "source": [
    "i = 2\n",
    "\n",
    "\n",
    "for i in range(100,0,-5):\n",
    "    print(i)"
   ]
  },
  {
   "cell_type": "code",
   "execution_count": 163,
   "id": "b1c6cea8-7905-4e53-989c-59b8bf7088ba",
   "metadata": {},
   "outputs": [
    {
     "ename": "TypeError",
     "evalue": "'list' object is not callable",
     "output_type": "error",
     "traceback": [
      "\u001b[0;31m---------------------------------------------------------------------------\u001b[0m",
      "\u001b[0;31mTypeError\u001b[0m                                 Traceback (most recent call last)",
      "\u001b[0;32m<ipython-input-163-c114a11ff942>\u001b[0m in \u001b[0;36m<module>\u001b[0;34m\u001b[0m\n\u001b[1;32m      3\u001b[0m \u001b[0mL3\u001b[0m\u001b[0;34m=\u001b[0m\u001b[0;34m[\u001b[0m\u001b[0;34m]\u001b[0m\u001b[0;34m\u001b[0m\u001b[0;34m\u001b[0m\u001b[0m\n\u001b[1;32m      4\u001b[0m \u001b[0;32mfor\u001b[0m  \u001b[0mi\u001b[0m \u001b[0;32min\u001b[0m \u001b[0mrange\u001b[0m\u001b[0;34m(\u001b[0m\u001b[0mlen\u001b[0m\u001b[0;34m(\u001b[0m\u001b[0mL2\u001b[0m\u001b[0;34m)\u001b[0m\u001b[0;34m)\u001b[0m\u001b[0;34m:\u001b[0m\u001b[0;34m\u001b[0m\u001b[0;34m\u001b[0m\u001b[0m\n\u001b[0;32m----> 5\u001b[0;31m     \u001b[0mL3\u001b[0m\u001b[0;34m.\u001b[0m\u001b[0mappend\u001b[0m\u001b[0;34m(\u001b[0m\u001b[0mL2\u001b[0m\u001b[0;34m(\u001b[0m\u001b[0mi\u001b[0m\u001b[0;34m)\u001b[0m \u001b[0;34m-\u001b[0m \u001b[0mL1\u001b[0m\u001b[0;34m(\u001b[0m\u001b[0mi\u001b[0m\u001b[0;34m)\u001b[0m\u001b[0;34m)\u001b[0m\u001b[0;34m\u001b[0m\u001b[0;34m\u001b[0m\u001b[0m\n\u001b[0m\u001b[1;32m      6\u001b[0m \u001b[0mprint\u001b[0m\u001b[0;34m(\u001b[0m\u001b[0mL3\u001b[0m\u001b[0;34m)\u001b[0m\u001b[0;34m\u001b[0m\u001b[0;34m\u001b[0m\u001b[0m\n",
      "\u001b[0;31mTypeError\u001b[0m: 'list' object is not callable"
     ]
    }
   ],
   "source": [
    "L1 = [10, 20, 30, 24, 18]\n",
    "L2 = [8, 14, 15, 20, 10]\n",
    "L3=[]\n",
    "for  i in range(len(L2)):\n",
    "    L3.append(L2(i) - L1(i))\n",
    "print(L3)"
   ]
  },
  {
   "cell_type": "code",
   "execution_count": 224,
   "id": "fa80f44f-ac99-4a70-bb21-b2fd7cf542e5",
   "metadata": {},
   "outputs": [
    {
     "name": "stdout",
     "output_type": "stream",
     "text": [
      "Varma\n",
      "Raj\n",
      "Gupta\n",
      "Sandeep\n"
     ]
    }
   ],
   "source": [
    "names = ['VARMA', 'raj', 'Gupta', 'SaNdeeP']\n",
    "\n",
    "\n",
    "new_names = []\n",
    "for i in range(len(names)):\n",
    "    names[i] = names[i].title()\n",
    "    print(names[i])\n",
    "    \n"
   ]
  },
  {
   "cell_type": "code",
   "execution_count": 262,
   "id": "ae010551-098e-42f9-a432-98ab7c038d25",
   "metadata": {},
   "outputs": [
    {
     "name": "stdin",
     "output_type": "stream",
     "text": [
      "Enter the valude for N: 10\n"
     ]
    },
    {
     "name": "stdout",
     "output_type": "stream",
     "text": [
      "1\n",
      "2\n",
      "3\n",
      "4  is divisible by  2\n",
      "5\n",
      "6  is divisible by  2\n",
      "7\n",
      "8  is divisible by  2\n",
      "9  is divisible by  3\n"
     ]
    }
   ],
   "source": [
    "#print prime number of N\n",
    "\n",
    "n = int(input(\"Enter the valude for N:\"))\n",
    "for i in range(1,n):  # 0,1,2,3,4.... N\n",
    "    flag = True\n",
    "  # print(\"iter: \",i)\n",
    "    for j in range(2,i):   # [2],[3]...[n]\n",
    "         if i % j == 0:\n",
    "                #not a prime number\n",
    "                flag = False\n",
    "                print(i ,\" is divisible by \", j)\n",
    "                break\n",
    "#    print(flag)\n",
    "\n",
    "    if flag == True:\n",
    "        print(i)\n",
    "    \n",
    "         "
   ]
  },
  {
   "cell_type": "code",
   "execution_count": 270,
   "id": "775fd8e3-7f5b-4b3b-b2e4-6f901a6a3743",
   "metadata": {},
   "outputs": [
    {
     "data": {
      "text/plain": [
       "[-100,\n",
       " -98,\n",
       " -96,\n",
       " -94,\n",
       " -92,\n",
       " -90,\n",
       " -88,\n",
       " -86,\n",
       " -84,\n",
       " -82,\n",
       " -80,\n",
       " -78,\n",
       " -76,\n",
       " -74,\n",
       " -72,\n",
       " -70,\n",
       " -68,\n",
       " -66,\n",
       " -64,\n",
       " -62,\n",
       " -60,\n",
       " -58,\n",
       " -56,\n",
       " -54,\n",
       " -52,\n",
       " -50,\n",
       " -48,\n",
       " -46,\n",
       " -44,\n",
       " -42,\n",
       " -40,\n",
       " -38,\n",
       " -36,\n",
       " -34,\n",
       " -32,\n",
       " -30,\n",
       " -28,\n",
       " -26,\n",
       " -24,\n",
       " -22,\n",
       " -20,\n",
       " -18,\n",
       " -16,\n",
       " -14,\n",
       " -12,\n",
       " -10,\n",
       " -8,\n",
       " -6,\n",
       " -4,\n",
       " -2]"
      ]
     },
     "execution_count": 270,
     "metadata": {},
     "output_type": "execute_result"
    }
   ],
   "source": [
    "l = []\n",
    "for i in range(-100, 0):\n",
    "    if(i % 2 == 0):\n",
    "        l.append(i)\n",
    "l"
   ]
  },
  {
   "cell_type": "code",
   "execution_count": 271,
   "id": "dff10baf-a392-4473-8602-70e2f02c61e9",
   "metadata": {},
   "outputs": [
    {
     "name": "stdout",
     "output_type": "stream",
     "text": [
      "0\n",
      "1\n",
      "2\n"
     ]
    }
   ],
   "source": [
    "d = {0: 'Fish', 1: 'Bird', 2: 'Mammal'}\n",
    "for i in d:\n",
    "    print(i)"
   ]
  },
  {
   "cell_type": "code",
   "execution_count": null,
   "id": "f8689320-1479-4e87-b4de-692a5ad2dc7b",
   "metadata": {},
   "outputs": [],
   "source": [
    "#create a list of n using comprehension Squaer"
   ]
  },
  {
   "cell_type": "code",
   "execution_count": 273,
   "id": "71d4b75c-f313-41ad-8c91-8bf6450c5eda",
   "metadata": {},
   "outputs": [
    {
     "name": "stdin",
     "output_type": "stream",
     "text": [
      "enter value for N: 10\n"
     ]
    },
    {
     "data": {
      "text/plain": [
       "[1, 4, 9, 16, 25, 36, 49, 64, 81]"
      ]
     },
     "execution_count": 273,
     "metadata": {},
     "output_type": "execute_result"
    }
   ],
   "source": [
    "n = int(input(\"enter value for N:\"))\n",
    "l1 = [val*val for val in range(1,n)] \n",
    "l1"
   ]
  },
  {
   "cell_type": "code",
   "execution_count": 276,
   "id": "edfb7cfc-6557-4fbe-b717-b6ad08f85a78",
   "metadata": {},
   "outputs": [
    {
     "data": {
      "text/plain": [
       "['old', 'apple', 'item', 'euphoria']"
      ]
     },
     "execution_count": 276,
     "metadata": {},
     "output_type": "execute_result"
    }
   ],
   "source": [
    "input_list=['wood','old','apple','big','item','euphoria']\n",
    "\n",
    "output_list = [word for word in input_list if word[0] in \"aeiou\"]\n",
    "output_list"
   ]
  },
  {
   "cell_type": "code",
   "execution_count": 277,
   "id": "8a89956b-67d8-4c2b-b1ac-499b3166d89f",
   "metadata": {},
   "outputs": [
    {
     "name": "stdout",
     "output_type": "stream",
     "text": [
      "{'A': 'aaa', 'C': 'ccc', 'B': 'bbb', 'D': 'ddd'}\n"
     ]
    }
   ],
   "source": [
    "d = {x.upper(): x*3 for x in 'acbd'}\n",
    "print(d)"
   ]
  },
  {
   "cell_type": "code",
   "execution_count": 278,
   "id": "d72c2a9f-e6ae-460e-b20f-8bb863e4782e",
   "metadata": {},
   "outputs": [
    {
     "data": {
      "text/plain": [
       "23"
      ]
     },
     "execution_count": 278,
     "metadata": {},
     "output_type": "execute_result"
    }
   ],
   "source": [
    "def func(x, y = 1):\n",
    "    z = x * y + x + y\n",
    "    return z\n",
    "\n",
    "func(2, func(3))\n"
   ]
  },
  {
   "cell_type": "code",
   "execution_count": 279,
   "id": "fa3a9de5-b0e1-4e7e-994c-2de15195baa6",
   "metadata": {},
   "outputs": [
    {
     "data": {
      "text/plain": [
       "35"
      ]
     },
     "execution_count": 279,
     "metadata": {},
     "output_type": "execute_result"
    }
   ],
   "source": [
    "def func(x = 1 ,y = 2):\n",
    "    z = x * y + x + y\n",
    "    return z\n",
    "\n",
    "func(2, func(3))"
   ]
  },
  {
   "cell_type": "code",
   "execution_count": 280,
   "id": "08090b1c-cc7a-44aa-b6f6-64a93eb85bf5",
   "metadata": {},
   "outputs": [
    {
     "data": {
      "text/plain": [
       "9996"
      ]
     },
     "execution_count": 280,
     "metadata": {},
     "output_type": "execute_result"
    }
   ],
   "source": [
    "min = (lambda x, y: x if x < y else y)\n",
    "min(101*99, 102*98)"
   ]
  },
  {
   "cell_type": "code",
   "execution_count": 287,
   "id": "90853f26-d71e-4e27-a647-d80044467239",
   "metadata": {},
   "outputs": [
    {
     "ename": "SyntaxError",
     "evalue": "invalid syntax (<ipython-input-287-c6eddb742edd>, line 3)",
     "output_type": "error",
     "traceback": [
      "\u001b[0;36m  File \u001b[0;32m\"<ipython-input-287-c6eddb742edd>\"\u001b[0;36m, line \u001b[0;32m3\u001b[0m\n\u001b[0;31m    f = lambda x: x if x[0] == 'S'\u001b[0m\n\u001b[0m                                  ^\u001b[0m\n\u001b[0;31mSyntaxError\u001b[0m\u001b[0;31m:\u001b[0m invalid syntax\n"
     ]
    }
   ],
   "source": [
    "l = ['Santa Cruz','Santa fe','Mumbai','Delhi']\n",
    "\n",
    "f = lambda x: x if x[0] == 'S'\n",
    "\n",
    "l1 = filter(f(l),l)\n",
    "list(l1)"
   ]
  },
  {
   "cell_type": "code",
   "execution_count": 363,
   "id": "7a9b4448-d9e0-4be1-be0d-7dc586374803",
   "metadata": {},
   "outputs": [
    {
     "data": {
      "text/plain": [
       "['soap', 'sharp', 'ship', 'sheep']"
      ]
     },
     "execution_count": 363,
     "metadata": {},
     "output_type": "execute_result"
    }
   ],
   "source": [
    "l = ['soap','sharp','shy','silent','ship','summer','sheep']\n",
    "f = lambda x: x[0] == 's'\n",
    "last = lambda x: x[-1] == 'p'\n",
    "res = list(filter(f, l))\n",
    "list(res)\n",
    "res_last = list(filter(last, res))\n",
    "list(res_last)\n"
   ]
  },
  {
   "cell_type": "code",
   "execution_count": 351,
   "id": "a6995434-f483-419a-8fd1-b32f3d8928b6",
   "metadata": {},
   "outputs": [
    {
     "data": {
      "text/plain": [
       "['Ankur Narang', 'Avik Sarkar', 'Kiran R', 'Nitin Sareen']"
      ]
     },
     "execution_count": 351,
     "metadata": {},
     "output_type": "execute_result"
    }
   ],
   "source": [
    "name1 = ['Ankur', 'Avik', 'Kiran', 'Nitin']\n",
    "name2 = ['Narang', 'Sarkar', 'R', 'Sareen']\n",
    "\n",
    "f = lambda x,y: x + ' ' + y \n",
    "\n",
    "list(map(f,name1, name2))\n"
   ]
  },
  {
   "cell_type": "code",
   "execution_count": 352,
   "id": "a35adca0-1a55-4902-90ca-cb9f3bf67541",
   "metadata": {},
   "outputs": [
    {
     "data": {
      "text/plain": [
       "[5, 10, 15, 20, 25, 30, 35, 40, 45, 50]"
      ]
     },
     "execution_count": 352,
     "metadata": {},
     "output_type": "execute_result"
    }
   ],
   "source": [
    "l = [1, 2, 3, 4, 5, 6, 7, 8, 9, 10, 11, 12, 13, 14, 15, 16, 17, 18, 19, 20, 21, 22, 23, 24, 25, 26, 27, 28, 29, 30, 31, 32, 33, 34, 35, 36, 37, 38, 39, 40, 41, 42, 43, 44, 45, 46, 47, 48, 49, 50]\n",
    "\n",
    "f = lambda x: x % 5 == 0\n",
    "\n",
    "list(filter(f, l))"
   ]
  },
  {
   "cell_type": "code",
   "execution_count": null,
   "id": "55a823cd-119e-4bdf-8af6-fbdbf8a984c9",
   "metadata": {},
   "outputs": [],
   "source": []
  },
  {
   "cell_type": "code",
   "execution_count": 391,
   "id": "0b6c5cd2-fd26-420e-b64e-cbf8168477a4",
   "metadata": {},
   "outputs": [
    {
     "data": {
      "text/plain": [
       "'All you have to fear is fear itself'"
      ]
     },
     "execution_count": 391,
     "metadata": {},
     "output_type": "execute_result"
    }
   ],
   "source": [
    "from functools import reduce\n",
    "input_list = ['All','you','have','to','fear','is','fear','itself']\n",
    "reduce(lambda x,y: x+' '+y, input_list)\n"
   ]
  },
  {
   "cell_type": "code",
   "execution_count": 392,
   "id": "bd2bee1e-0280-467d-b765-7583b65282c4",
   "metadata": {},
   "outputs": [
    {
     "data": {
      "text/plain": [
       "99"
      ]
     },
     "execution_count": 392,
     "metadata": {},
     "output_type": "execute_result"
    }
   ],
   "source": [
    "input_list = [65,76,87,23,12,90,99]\n",
    "\n",
    "reduce(lambda x,y:x if x>y else y, input_list)"
   ]
  },
  {
   "cell_type": "code",
   "execution_count": 413,
   "id": "4314d551-bf19-4433-b139-e03e61feb62f",
   "metadata": {},
   "outputs": [
    {
     "name": "stdout",
     "output_type": "stream",
     "text": [
      "bandra##\n",
      "bandra\n",
      "mumbainb\n",
      "bandra,mumbainb\n"
     ]
    }
   ],
   "source": [
    "input_str = \"bmaunmdbraai#n#b\"\n",
    "message1 = input_str[0::2]\n",
    "print(message1)\n",
    "new = message1.strip('#')\n",
    "print(new)\n",
    "message2 = input_str[1::2]\n",
    "print(message2)\n",
    "print(message1.strip('#')+','+message2.strip('#'))"
   ]
  },
  {
   "cell_type": "code",
   "execution_count": 430,
   "id": "d31c4651-4274-4134-abb0-0fc5d659498c",
   "metadata": {},
   "outputs": [
    {
     "name": "stdout",
     "output_type": "stream",
     "text": [
      "4 Shiv 3\n",
      "VI\n"
     ]
    }
   ],
   "source": [
    "class Student:\n",
    "    standard = 'IV'\n",
    "    def __init__(self,age,name,Cid):\n",
    "        self.age = age\n",
    "        self.name = name\n",
    "        self.id = Cid\n",
    "        \n",
    "    \n",
    "student1 = Student(12,\"Raj\",24)\n",
    "student1 = Student(12,\"Sam\",10)\n",
    "student1 = Student(\"Shiv\",4, 3)\n",
    "print(student1.name, student1.age, student1.id)\n",
    "student1.standard = 'VI'\n",
    "print(student1.standard)"
   ]
  },
  {
   "cell_type": "code",
   "execution_count": 433,
   "id": "719ac93e-949e-4703-a20e-57896497130b",
   "metadata": {},
   "outputs": [
    {
     "data": {
      "text/plain": [
       "33"
      ]
     },
     "execution_count": 433,
     "metadata": {},
     "output_type": "execute_result"
    }
   ],
   "source": [
    "class A :\n",
    "    x = 10\n",
    "    def __init__(self, y,z):\n",
    "        self.y = y\n",
    "        self.z = z\n",
    "           \n",
    "    def update_y(self):\n",
    "        self.y = self.y * self.z\n",
    "\n",
    "        \n",
    "        \n",
    "A1 = A(3,4)\n",
    "A2 = A(5,6)\n",
    "\n",
    "A.x = 30\n",
    "A1.y + A2.x"
   ]
  },
  {
   "cell_type": "code",
   "execution_count": 435,
   "id": "ab59a2fe-8a9a-45c1-9e1e-112d524fc300",
   "metadata": {},
   "outputs": [
    {
     "name": "stdout",
     "output_type": "stream",
     "text": [
      "[2, 5, 7, 4, 3, 1]\n"
     ]
    }
   ],
   "source": [
    "array_1 = [,2,3,5,4,6,7,8,5,3,21]\n",
    "print(array_1[ : : -2])"
   ]
  },
  {
   "cell_type": "code",
   "execution_count": 460,
   "id": "3fcc4912-78c8-401c-b546-cffa57ec8506",
   "metadata": {},
   "outputs": [
    {
     "ename": "KeyboardInterrupt",
     "evalue": "Interrupted by user",
     "output_type": "error",
     "traceback": [
      "\u001b[0;31m---------------------------------------------------------------------------\u001b[0m",
      "\u001b[0;31mKeyboardInterrupt\u001b[0m                         Traceback (most recent call last)",
      "\u001b[0;32m<ipython-input-460-103992dfefb7>\u001b[0m in \u001b[0;36m<module>\u001b[0;34m\u001b[0m\n\u001b[1;32m      2\u001b[0m \u001b[0;32mimport\u001b[0m \u001b[0mast\u001b[0m\u001b[0;34m\u001b[0m\u001b[0;34m\u001b[0m\u001b[0m\n\u001b[1;32m      3\u001b[0m \u001b[0;34m\u001b[0m\u001b[0m\n\u001b[0;32m----> 4\u001b[0;31m \u001b[0minput_list\u001b[0m\u001b[0;34m=\u001b[0m\u001b[0mast\u001b[0m\u001b[0;34m.\u001b[0m\u001b[0mliteral_eval\u001b[0m\u001b[0;34m(\u001b[0m\u001b[0minput\u001b[0m\u001b[0;34m(\u001b[0m\u001b[0;34m)\u001b[0m\u001b[0;34m)\u001b[0m\u001b[0;34m\u001b[0m\u001b[0;34m\u001b[0m\u001b[0m\n\u001b[0m\u001b[1;32m      5\u001b[0m \u001b[0;34m\u001b[0m\u001b[0m\n\u001b[1;32m      6\u001b[0m \u001b[0mm\u001b[0m\u001b[0;34m=\u001b[0m\u001b[0mint\u001b[0m\u001b[0;34m(\u001b[0m\u001b[0minput\u001b[0m\u001b[0;34m(\u001b[0m\u001b[0;34m\"m\"\u001b[0m\u001b[0;34m)\u001b[0m\u001b[0;34m)\u001b[0m\u001b[0;34m\u001b[0m\u001b[0;34m\u001b[0m\u001b[0m\n",
      "\u001b[0;32m~/opt/anaconda3/lib/python3.8/site-packages/ipykernel/kernelbase.py\u001b[0m in \u001b[0;36mraw_input\u001b[0;34m(self, prompt)\u001b[0m\n\u001b[1;32m    858\u001b[0m                 \u001b[0;34m\"raw_input was called, but this frontend does not support input requests.\"\u001b[0m\u001b[0;34m\u001b[0m\u001b[0;34m\u001b[0m\u001b[0m\n\u001b[1;32m    859\u001b[0m             )\n\u001b[0;32m--> 860\u001b[0;31m         return self._input_request(str(prompt),\n\u001b[0m\u001b[1;32m    861\u001b[0m             \u001b[0mself\u001b[0m\u001b[0;34m.\u001b[0m\u001b[0m_parent_ident\u001b[0m\u001b[0;34m,\u001b[0m\u001b[0;34m\u001b[0m\u001b[0;34m\u001b[0m\u001b[0m\n\u001b[1;32m    862\u001b[0m             \u001b[0mself\u001b[0m\u001b[0;34m.\u001b[0m\u001b[0m_parent_header\u001b[0m\u001b[0;34m,\u001b[0m\u001b[0;34m\u001b[0m\u001b[0;34m\u001b[0m\u001b[0m\n",
      "\u001b[0;32m~/opt/anaconda3/lib/python3.8/site-packages/ipykernel/kernelbase.py\u001b[0m in \u001b[0;36m_input_request\u001b[0;34m(self, prompt, ident, parent, password)\u001b[0m\n\u001b[1;32m    902\u001b[0m             \u001b[0;32mexcept\u001b[0m \u001b[0mKeyboardInterrupt\u001b[0m\u001b[0;34m:\u001b[0m\u001b[0;34m\u001b[0m\u001b[0;34m\u001b[0m\u001b[0m\n\u001b[1;32m    903\u001b[0m                 \u001b[0;31m# re-raise KeyboardInterrupt, to truncate traceback\u001b[0m\u001b[0;34m\u001b[0m\u001b[0;34m\u001b[0m\u001b[0;34m\u001b[0m\u001b[0m\n\u001b[0;32m--> 904\u001b[0;31m                 \u001b[0;32mraise\u001b[0m \u001b[0mKeyboardInterrupt\u001b[0m\u001b[0;34m(\u001b[0m\u001b[0;34m\"Interrupted by user\"\u001b[0m\u001b[0;34m)\u001b[0m \u001b[0;32mfrom\u001b[0m \u001b[0;32mNone\u001b[0m\u001b[0;34m\u001b[0m\u001b[0;34m\u001b[0m\u001b[0m\n\u001b[0m\u001b[1;32m    905\u001b[0m             \u001b[0;32mexcept\u001b[0m \u001b[0mException\u001b[0m \u001b[0;32mas\u001b[0m \u001b[0me\u001b[0m\u001b[0;34m:\u001b[0m\u001b[0;34m\u001b[0m\u001b[0;34m\u001b[0m\u001b[0m\n\u001b[1;32m    906\u001b[0m                 \u001b[0mself\u001b[0m\u001b[0;34m.\u001b[0m\u001b[0mlog\u001b[0m\u001b[0;34m.\u001b[0m\u001b[0mwarning\u001b[0m\u001b[0;34m(\u001b[0m\u001b[0;34m\"Invalid Message:\"\u001b[0m\u001b[0;34m,\u001b[0m \u001b[0mexc_info\u001b[0m\u001b[0;34m=\u001b[0m\u001b[0;32mTrue\u001b[0m\u001b[0;34m)\u001b[0m\u001b[0;34m\u001b[0m\u001b[0;34m\u001b[0m\u001b[0m\n",
      "\u001b[0;31mKeyboardInterrupt\u001b[0m: Interrupted by user"
     ]
    }
   ],
   "source": [
    "#take input here\n",
    "import ast \n",
    "\n",
    "input_list=ast.literal_eval(input())\n",
    "\n",
    "m=int(input(\"m\"))\n",
    "n=int(input(\"n\"))\n",
    "\n",
    "import numpy as np\n",
    "\n",
    "array_1 = np.array(input_list)\n",
    "\n",
    "final_array = array_1 [m < array_1]\n",
    "final_array = final_array [final_array < n]\n",
    "\n",
    "print(final_array)"
   ]
  },
  {
   "cell_type": "code",
   "execution_count": 494,
   "id": "c162dbd8-c22a-4830-a65d-98ddab49c21f",
   "metadata": {},
   "outputs": [
    {
     "name": "stdout",
     "output_type": "stream",
     "text": [
      "2   3\n",
      "[11 21 31]\n",
      "[11 12 13 14]\n",
      "[14 24 34]\n",
      "[31 32 33 34]\n"
     ]
    }
   ],
   "source": [
    "import numpy as np\n",
    "l = [[11, 12, 13, 14],\n",
    "    [21, 22, 23, 24],\n",
    "    [31, 32, 33, 34]]\n",
    "\n",
    "a = np.array(l)\n",
    "\n",
    "rows = len(a) - 1\n",
    "cols = len(a[0]) -1 \n",
    "print(rows, ' ', cols)\n",
    "\n",
    "col_first = a[:,0]\n",
    "row_first = a[0,:]\n",
    "col_last = a[:,cols]\n",
    "row_last = a[rows,:]\n",
    "print(col_first)\n",
    "print(row_first)\n",
    "print(col_last)\n",
    "print(row_last)\n"
   ]
  },
  {
   "cell_type": "code",
   "execution_count": 470,
   "id": "a7f6a6ae-2543-4f60-918a-6dc2fc3078a8",
   "metadata": {},
   "outputs": [
    {
     "name": "stdout",
     "output_type": "stream",
     "text": [
      "[]\n"
     ]
    }
   ],
   "source": [
    "print(a[:0])"
   ]
  },
  {
   "cell_type": "code",
   "execution_count": 481,
   "id": "fdca3436-8de1-4b55-905b-e797fb5cab11",
   "metadata": {},
   "outputs": [
    {
     "name": "stdout",
     "output_type": "stream",
     "text": [
      "[[0 0 0 0]\n",
      " [0 0 0 0]\n",
      " [0 0 0 0]\n",
      " [0 0 0 0]]\n",
      "[[1 1 1 1]\n",
      " [1 0 0 1]\n",
      " [1 0 0 1]\n",
      " [1 1 1 1]]\n"
     ]
    }
   ],
   "source": [
    "a = np.zeros((4,4), dtype = int)\n",
    "print(a)\n",
    "a[:,0] = 1\n",
    "a[0,:] = 1\n",
    "a[:,3] = 1\n",
    "a[3,:] = 1\n",
    "print(a)"
   ]
  },
  {
   "cell_type": "code",
   "execution_count": 502,
   "id": "c4b547dd-1a38-4451-ba6a-2b28220945dc",
   "metadata": {},
   "outputs": [
    {
     "name": "stdout",
     "output_type": "stream",
     "text": [
      "[[ 0  1  2  3  4  5  6  7  8  9]\n",
      " [10 11 12 13 14 15 16 17 18 19]\n",
      " [20 21 22 23 24 25 26 27 28 29]\n",
      " [30 31 32 33 34 35 36 37 38 39]\n",
      " [40 41 42 43 44 45 46 47 48 49]\n",
      " [50 51 52 53 54 55 56 57 58 59]\n",
      " [60 61 62 63 64 65 66 67 68 69]\n",
      " [70 71 72 73 74 75 76 77 78 79]\n",
      " [80 81 82 83 84 85 86 87 88 89]\n",
      " [90 91 92 93 94 95 96 97 98 99]]\n"
     ]
    },
    {
     "ename": "TypeError",
     "evalue": "_reshape_dispatcher() missing 1 required positional argument: 'newshape'",
     "output_type": "error",
     "traceback": [
      "\u001b[0;31m---------------------------------------------------------------------------\u001b[0m",
      "\u001b[0;31mTypeError\u001b[0m                                 Traceback (most recent call last)",
      "\u001b[0;32m<ipython-input-502-3b6fac4629b2>\u001b[0m in \u001b[0;36m<module>\u001b[0;34m\u001b[0m\n\u001b[1;32m      1\u001b[0m \u001b[0ma\u001b[0m \u001b[0;34m=\u001b[0m \u001b[0mnp\u001b[0m\u001b[0;34m.\u001b[0m\u001b[0marange\u001b[0m\u001b[0;34m(\u001b[0m\u001b[0;36m100\u001b[0m\u001b[0;34m)\u001b[0m\u001b[0;34m.\u001b[0m\u001b[0mreshape\u001b[0m\u001b[0;34m(\u001b[0m\u001b[0;36m10\u001b[0m\u001b[0;34m,\u001b[0m\u001b[0;36m10\u001b[0m\u001b[0;34m)\u001b[0m\u001b[0;34m\u001b[0m\u001b[0;34m\u001b[0m\u001b[0m\n\u001b[1;32m      2\u001b[0m \u001b[0mprint\u001b[0m\u001b[0;34m(\u001b[0m\u001b[0ma\u001b[0m\u001b[0;34m)\u001b[0m\u001b[0;34m\u001b[0m\u001b[0;34m\u001b[0m\u001b[0m\n\u001b[0;32m----> 3\u001b[0;31m \u001b[0mb\u001b[0m \u001b[0;34m=\u001b[0m \u001b[0mnp\u001b[0m\u001b[0;34m.\u001b[0m\u001b[0mreshape\u001b[0m\u001b[0;34m(\u001b[0m\u001b[0ma\u001b[0m \u001b[0;34m-\u001b[0m\u001b[0;36m1\u001b[0m\u001b[0;34m)\u001b[0m\u001b[0;34m\u001b[0m\u001b[0;34m\u001b[0m\u001b[0m\n\u001b[0m",
      "\u001b[0;32m<__array_function__ internals>\u001b[0m in \u001b[0;36mreshape\u001b[0;34m(*args, **kwargs)\u001b[0m\n",
      "\u001b[0;31mTypeError\u001b[0m: _reshape_dispatcher() missing 1 required positional argument: 'newshape'"
     ]
    }
   ],
   "source": [
    "a = np.arange(100).reshape(10,10)\n",
    "print(a)\n"
   ]
  },
  {
   "cell_type": "code",
   "execution_count": 523,
   "id": "21b7a583-8c9c-44f7-abe0-142995ee25dd",
   "metadata": {},
   "outputs": [
    {
     "data": {
      "text/plain": [
       "array([[1, 5, 3, 7, 4, 9]])"
      ]
     },
     "execution_count": 523,
     "metadata": {},
     "output_type": "execute_result"
    }
   ],
   "source": [
    "p = [[1, 5],\n",
    " [3, 7],\n",
    " [4, 9]]\n",
    "np.reshape(p, (1, -1))"
   ]
  },
  {
   "cell_type": "code",
   "execution_count": 525,
   "id": "ad850200-531b-4ff2-84f3-af9c61ed7f50",
   "metadata": {},
   "outputs": [
    {
     "name": "stdout",
     "output_type": "stream",
     "text": [
      "[[ 1  3]\n",
      " [ 5  7]\n",
      " [ 9 11]\n",
      " [13 15]\n",
      " [17 19]]\n"
     ]
    },
    {
     "data": {
      "text/plain": [
       "array([ 0,  1,  2,  3,  4,  5,  6,  7,  8,  9, 10, 11, 12, 13, 14, 15, 16,\n",
       "       17, 18, 19, 20])"
      ]
     },
     "execution_count": 525,
     "metadata": {},
     "output_type": "execute_result"
    }
   ],
   "source": [
    "array_1 = np.arange(21)\n",
    "#print(array_1)\n",
    "#print(array_1.reshape(5, 4)[array_1%2 != 0])\n",
    "#print(array_1[array_1%2 != 0])\n",
    "#print(array_1[array_1%2 == 0].reshape(5, 2))\n",
    "\n",
    "print(array_1[array_1%2 != 0].reshape(5, 2))\n",
    "array_1.transpose()"
   ]
  },
  {
   "cell_type": "code",
   "execution_count": 589,
   "id": "c6af0d3a-0be7-4781-9a47-46e8b0900978",
   "metadata": {},
   "outputs": [
    {
     "ename": "ValueError",
     "evalue": "all the input arrays must have same number of dimensions, but the array at index 0 has 2 dimension(s) and the array at index 1 has 1 dimension(s)",
     "output_type": "error",
     "traceback": [
      "\u001b[0;31m---------------------------------------------------------------------------\u001b[0m",
      "\u001b[0;31mValueError\u001b[0m                                Traceback (most recent call last)",
      "\u001b[0;32m<ipython-input-589-2453388b0d64>\u001b[0m in \u001b[0;36m<module>\u001b[0;34m\u001b[0m\n\u001b[1;32m      5\u001b[0m \u001b[0;34m\u001b[0m\u001b[0m\n\u001b[1;32m      6\u001b[0m \u001b[0ma1\u001b[0m \u001b[0;34m=\u001b[0m \u001b[0mnp\u001b[0m\u001b[0;34m.\u001b[0m\u001b[0mvstack\u001b[0m\u001b[0;34m(\u001b[0m\u001b[0;34m(\u001b[0m\u001b[0ma1\u001b[0m\u001b[0;34m,\u001b[0m \u001b[0ma2\u001b[0m\u001b[0;34m)\u001b[0m\u001b[0;34m)\u001b[0m\u001b[0;34m\u001b[0m\u001b[0;34m\u001b[0m\u001b[0m\n\u001b[0;32m----> 7\u001b[0;31m \u001b[0ma1\u001b[0m \u001b[0;34m=\u001b[0m \u001b[0mnp\u001b[0m\u001b[0;34m.\u001b[0m\u001b[0mhstack\u001b[0m\u001b[0;34m(\u001b[0m\u001b[0;34m(\u001b[0m\u001b[0ma1\u001b[0m\u001b[0;34m,\u001b[0m \u001b[0ma3_t\u001b[0m\u001b[0;34m)\u001b[0m\u001b[0;34m)\u001b[0m\u001b[0;34m\u001b[0m\u001b[0;34m\u001b[0m\u001b[0m\n\u001b[0m\u001b[1;32m      8\u001b[0m \u001b[0;34m\u001b[0m\u001b[0m\n\u001b[1;32m      9\u001b[0m \u001b[0mprint\u001b[0m\u001b[0;34m(\u001b[0m\u001b[0ma1\u001b[0m\u001b[0;34m)\u001b[0m\u001b[0;34m\u001b[0m\u001b[0;34m\u001b[0m\u001b[0m\n",
      "\u001b[0;32m<__array_function__ internals>\u001b[0m in \u001b[0;36mhstack\u001b[0;34m(*args, **kwargs)\u001b[0m\n",
      "\u001b[0;32m~/opt/anaconda3/lib/python3.8/site-packages/numpy/core/shape_base.py\u001b[0m in \u001b[0;36mhstack\u001b[0;34m(tup)\u001b[0m\n\u001b[1;32m    344\u001b[0m         \u001b[0;32mreturn\u001b[0m \u001b[0m_nx\u001b[0m\u001b[0;34m.\u001b[0m\u001b[0mconcatenate\u001b[0m\u001b[0;34m(\u001b[0m\u001b[0marrs\u001b[0m\u001b[0;34m,\u001b[0m \u001b[0;36m0\u001b[0m\u001b[0;34m)\u001b[0m\u001b[0;34m\u001b[0m\u001b[0;34m\u001b[0m\u001b[0m\n\u001b[1;32m    345\u001b[0m     \u001b[0;32melse\u001b[0m\u001b[0;34m:\u001b[0m\u001b[0;34m\u001b[0m\u001b[0;34m\u001b[0m\u001b[0m\n\u001b[0;32m--> 346\u001b[0;31m         \u001b[0;32mreturn\u001b[0m \u001b[0m_nx\u001b[0m\u001b[0;34m.\u001b[0m\u001b[0mconcatenate\u001b[0m\u001b[0;34m(\u001b[0m\u001b[0marrs\u001b[0m\u001b[0;34m,\u001b[0m \u001b[0;36m1\u001b[0m\u001b[0;34m)\u001b[0m\u001b[0;34m\u001b[0m\u001b[0;34m\u001b[0m\u001b[0m\n\u001b[0m\u001b[1;32m    347\u001b[0m \u001b[0;34m\u001b[0m\u001b[0m\n\u001b[1;32m    348\u001b[0m \u001b[0;34m\u001b[0m\u001b[0m\n",
      "\u001b[0;32m<__array_function__ internals>\u001b[0m in \u001b[0;36mconcatenate\u001b[0;34m(*args, **kwargs)\u001b[0m\n",
      "\u001b[0;31mValueError\u001b[0m: all the input arrays must have same number of dimensions, but the array at index 0 has 2 dimension(s) and the array at index 1 has 1 dimension(s)"
     ]
    }
   ],
   "source": [
    "\n",
    "a1 = np.array([[7, 13, 14],[18, 10, 17],[11, 12, 19]])\n",
    "a2 = np.array([16, 6, 1])\n",
    "a3 = np.array([[5, 8, 4, 3]])\n",
    "a3_t = np.reshape(-1,a3)\n",
    "\n",
    "a1 = np.vstack((a1, a2))\n",
    "a1 = np.hstack((a1, a3_t))\n",
    "\n",
    "print(a1)\n"
   ]
  },
  {
   "cell_type": "code",
   "execution_count": 604,
   "id": "a806c2ec-ec6d-4527-ae12-568e4d19e9db",
   "metadata": {},
   "outputs": [
    {
     "name": "stdout",
     "output_type": "stream",
     "text": [
      "[[ 7 13 14  5]\n",
      " [18 10 17  8]\n",
      " [11 12 19  4]\n",
      " [16  6  1  3]]\n"
     ]
    }
   ],
   "source": [
    "a1 = np.array([[7, 13, 14],[18, 10, 17],[11, 12, 19]])\n",
    "a2 = np.array([16, 6, 1])\n",
    "a3 = np.array([[5, 8, 4, 3]])\n",
    "a3 = np.transpose(a3)\n",
    "a1 = np.vstack((a1, a2))\n",
    "a1 = np.hstack((a1,a3))\n",
    "print(a1)"
   ]
  },
  {
   "cell_type": "code",
   "execution_count": 602,
   "id": "2bcc7c17-306f-4488-857f-8a3e2f62c97f",
   "metadata": {},
   "outputs": [
    {
     "data": {
      "text/plain": [
       "array([[5],\n",
       "       [8],\n",
       "       [4],\n",
       "       [3]])"
      ]
     },
     "execution_count": 602,
     "metadata": {},
     "output_type": "execute_result"
    }
   ],
   "source": [
    "[[7, 13, 14],\n",
    "[18, 10, 17],\n",
    "[11, 12, 19]]\n"
   ]
  },
  {
   "cell_type": "code",
   "execution_count": 609,
   "id": "9662eaa5-a3c3-4478-b88e-934eafdac13c",
   "metadata": {},
   "outputs": [
    {
     "name": "stdout",
     "output_type": "stream",
     "text": [
      "17\n",
      "(array([ 6, 13]),)\n",
      "(array([1, 9]),)\n"
     ]
    }
   ],
   "source": [
    "arr = np.array([11, 12, 13, 14, 15, 16, 17, 15, 11, 12, 14, 15, 16, 17])\n",
    "print(np.amax(arr))\n",
    "result = np.where(arr == np.amax(arr))\n",
    "print(result)\n",
    "result = np.where(arr == 12)\n",
    "print(result)"
   ]
  },
  {
   "cell_type": "code",
   "execution_count": 89,
   "id": "b6b5faa0-56d9-4c02-a66b-cbdde9d26815",
   "metadata": {},
   "outputs": [
    {
     "name": "stdout",
     "output_type": "stream",
     "text": [
      "       SL No     Name      Subject  Marks Maximum  Marks Obtained  Percentage\n",
      "index                                                                        \n",
      "0          1   Akshay  Mathematics             50              40          80\n",
      "1          2   Mahima      English             40              33          83\n",
      "2          3    Vikas  Mathematics             50              42          84\n",
      "3          4  Abhinav      English             40              31          78\n",
      "4          5   Mahima      Science             50              40          80\n",
      "5          6   Akshay      Science             50              49          98\n",
      "6          7  Abhinav  Mathematics             50              47          94\n",
      "7          8    Vikas      Science             50              40          80\n",
      "8          9  Abhinav      Science             50              47          94\n",
      "9         10    Vikas      English             40              39          98\n",
      "10        11   Akshay      English             40              35          88\n",
      "11        12   Mahima  Mathematics             50              43          86\n",
      "===========================\n",
      "          Name  Subject  Percentage\n",
      "index                              \n",
      "3      Abhinav  English          78\n",
      "       SL No     Name  Marks Obtained\n",
      "index                                \n",
      "3          4  Abhinav              31\n",
      "       SL No   Name  Marks Obtained\n",
      "index                              \n",
      "2          3  Vikas              42\n"
     ]
    }
   ],
   "source": [
    "# pandas\n",
    "\n",
    "# All imports\n",
    "import pandas as pd\n",
    "\n",
    "# The file is stored at the following path:\n",
    "# 'https://media-doselect.s3.amazonaws.com/generic/A08MajL8qN4rq72EpVJbAP1Rw/marks_1.csv'\n",
    "# Provide your answer below\n",
    "\n",
    "df = pd.read_csv('marks_1.csv', header = None, sep = '|')\n",
    "list_of_columns = ['SL No', 'Name', 'Subject', 'Marks Maximum', 'Marks Obtained', 'Percentage']\n",
    "df.set_index\n",
    "df.columns = list_of_columns\n",
    "df.index.name = \"index\"\n",
    "print(df)\n",
    "\n",
    "print(\"===========================\")\n",
    "#print(df.loc[[2], [\"S.No.\", \"Name\", \"Subject\", \"Percentage\"]])\n",
    "print(df.loc[[3], [\"Name\", \"Subject\", \"Percentage\"]])\n",
    "print(df.iloc[[3], [0, 1, 4]])\n",
    "#print(df.iloc[[2], [0, 1, 4]])\n",
    "#print(df.loc[[2], [0, 1, 4]])\n"
   ]
  },
  {
   "cell_type": "code",
   "execution_count": 152,
   "id": "98b42bb6-1409-4749-ad5d-60c279dc6bf9",
   "metadata": {},
   "outputs": [
    {
     "name": "stdout",
     "output_type": "stream",
     "text": [
      "                         ID  Rating\n",
      "Office    Department               \n",
      "New Delhi Finance     U2F26     3.4\n",
      "          Marketing   U2M61     3.9\n",
      "          Sales       U1S15     2.8\n",
      "Mumbai    HR          U1H87     2.1\n",
      "New Delhi Sales       U1S51     4.6\n",
      "...                     ...     ...\n",
      "          Sales       U3S44     4.8\n",
      "Bangalore Marketing   U2M11     2.5\n",
      "          Finance     U3F53     3.2\n",
      "          Sales       U3S46     2.9\n",
      "New Delhi Sales       U3S28     2.9\n",
      "\n",
      "[533 rows x 2 columns]\n",
      "<class 'pandas.core.frame.DataFrame'>\n",
      "MultiIndex: 533 entries, ('New Delhi', 'Finance') to ('New Delhi', 'Sales')\n",
      "Data columns (total 2 columns):\n",
      " #   Column  Non-Null Count  Dtype  \n",
      "---  ------  --------------  -----  \n",
      " 0   ID      533 non-null    object \n",
      " 1   Rating  524 non-null    float64\n",
      "dtypes: float64(1), object(1)\n",
      "memory usage: 9.8+ KB\n",
      "None\n",
      "           Rating\n",
      "count  524.000000\n",
      "mean     3.550191\n",
      "std      0.850430\n",
      "min      2.100000\n",
      "25%      2.800000\n",
      "50%      3.500000\n",
      "75%      4.300000\n",
      "max      5.000000\n",
      "(533, 2)\n",
      "Index(['ID', 'Rating'], dtype='object')\n"
     ]
    }
   ],
   "source": [
    "import numpy as np\n",
    "import pandas as pd\n",
    "    \n",
    "df = pd.read_csv('https://media-doselect.s3.amazonaws.com/generic/NMgEjwkAEGGQZBoNYGr9Ld7w0/rating.csv')\n",
    "#print (df)\n",
    "df.set_index(['Office', 'Department'], inplace=True)\n",
    "print (df)\n",
    "#df.sort_index(inplace=True)\n",
    "#print(df.head())\n",
    "\n",
    "print(df.info())\n",
    "print(df.describe())\n",
    "print(df.shape)\n",
    "print(df.columns)\n"
   ]
  },
  {
   "cell_type": "code",
   "execution_count": 74,
   "id": "41c07472-aa15-436e-8a48-c8443f1d7d7d",
   "metadata": {},
   "outputs": [
    {
     "name": "stdout",
     "output_type": "stream",
     "text": [
      "   month  day  temp  area\n",
      "0    mar  fri   8.2   0.0\n",
      "1    oct  tue  18.0   0.0\n",
      "2    oct  sat  14.6   0.0\n",
      "3    mar  fri   8.3   0.0\n",
      "4    mar  sun  11.4   0.0\n",
      "5    aug  sun  22.2   0.0\n",
      "6    aug  mon  24.1   0.0\n",
      "7    aug  mon   8.0   0.0\n",
      "8    sep  tue  13.1   0.0\n",
      "9    sep  sat  22.8   0.0\n",
      "10   sep  sat  17.8   0.0\n",
      "11   sep  sat  19.3   0.0\n",
      "12   aug  fri  17.0   0.0\n",
      "13   sep  mon  21.3   0.0\n",
      "14   sep  wed  26.4   0.0\n",
      "15   sep  fri  22.9   0.0\n",
      "16   mar  sat  15.1   0.0\n",
      "17   oct  mon  16.7   0.0\n",
      "18   mar  wed  15.9   0.0\n",
      "19   apr  sat   9.3   0.0\n"
     ]
    }
   ],
   "source": [
    "import pandas as pd\n",
    "df = pd.read_csv('https://query.data.world/s/vBDCsoHCytUSLKkLvq851k2b8JOCkF',)\n",
    "df_2 = df[['month', 'day' , 'temp' , 'area']]\n",
    "print(df_2.head(20))"
   ]
  },
  {
   "cell_type": "code",
   "execution_count": 75,
   "id": "0f0f10d1-6235-4f19-85f5-04f3d9202d4e",
   "metadata": {},
   "outputs": [
    {
     "name": "stdout",
     "output_type": "stream",
     "text": [
      "    X  Y month  day  FFMC    DMC     DC   ISI  temp  RH  wind  rain  area\n",
      "1   7  4   oct  tue  90.6   35.4  669.1   6.7  18.0  33   0.9   0.0   0.0\n",
      "3   8  6   mar  fri  91.7   33.3   77.5   9.0   8.3  97   4.0   0.2   0.0\n",
      "5   8  6   aug  sun  92.3   85.3  488.0  14.7  22.2  29   5.4   0.0   0.0\n",
      "7   8  6   aug  mon  91.5  145.4  608.2  10.7   8.0  86   2.2   0.0   0.0\n",
      "9   7  5   sep  sat  92.5   88.0  698.6   7.1  22.8  40   4.0   0.0   0.0\n",
      "11  7  5   sep  sat  92.8   73.2  713.0  22.6  19.3  38   4.0   0.0   0.0\n",
      "13  6  5   sep  mon  90.9  126.5  686.5   7.0  21.3  42   2.2   0.0   0.0\n",
      "15  6  5   sep  fri  93.3  141.2  713.9  13.9  22.9  44   5.4   0.0   0.0\n",
      "17  8  5   oct  mon  84.9   32.8  664.2   3.0  16.7  47   4.9   0.0   0.0\n",
      "19  6  4   apr  sat  86.3   27.4   97.1   5.1   9.3  44   4.5   0.0   0.0\n",
      "21  5  4   sep  mon  91.8   78.5  724.3   9.2  19.1  38   2.7   0.0   0.0\n",
      "23  7  4   aug  sat  90.2  110.9  537.4   6.2  19.5  43   5.8   0.0   0.0\n",
      "25  7  4   aug  sun  91.4  142.4  601.4  10.6  16.3  60   5.4   0.0   0.0\n",
      "27  7  4   sep  mon  90.9  126.5  686.5   7.0  19.4  48   1.3   0.0   0.0\n",
      "29  6  3   sep  sun  93.5  149.3  728.6   8.1  22.8  39   3.6   0.0   0.0\n",
      "31  6  3   sep  mon  88.6   91.8  709.9   7.1  11.2  78   7.6   0.0   0.0\n",
      "33  6  3   sep  sun  91.7   75.6  718.3   7.8  17.7  39   3.6   0.0   0.0\n",
      "35  6  3   sep  tue  90.3   80.7  730.2   6.3  18.2  62   4.5   0.0   0.0\n",
      "37  7  4   oct  fri  90.0   41.5  682.6   8.7  11.3  60   5.4   0.0   0.0\n",
      "39  4  4   mar  tue  88.1   25.7   67.6   3.8  14.1  43   2.7   0.0   0.0\n"
     ]
    }
   ],
   "source": [
    "import pandas as pd\n",
    "df = pd.read_csv('https://query.data.world/s/vBDCsoHCytUSLKkLvq851k2b8JOCkF')\n",
    "df_2 = df.iloc[1::2]\n",
    "print(df_2.head(20))"
   ]
  },
  {
   "cell_type": "code",
   "execution_count": 134,
   "id": "8f554e2b-fb11-4a23-afc4-7711b28a8374",
   "metadata": {},
   "outputs": [
    {
     "name": "stdout",
     "output_type": "stream",
     "text": [
      "          Name      Subject  Marks Maximum  Marks Obtained  Percentage\n",
      "SL No                                                                 \n",
      "1       Akshay  Mathematics             50              40          80\n",
      "2       Mahima      English             40              33          83\n",
      "3        Vikas  Mathematics             50              42          84\n",
      "4      Abhinav      English             40              31          78\n",
      "5       Mahima      Science             50              40          80\n",
      "6       Akshay      Science             50              49          98\n",
      "7      Abhinav  Mathematics             50              47          94\n",
      "8        Vikas      Science             50              40          80\n",
      "9      Abhinav      Science             50              47          94\n",
      "10       Vikas      English             40              39          98\n",
      "11      Akshay      English             40              35          88\n",
      "12      Mahima  Mathematics             50              43          86\n",
      "===========================\n",
      "        Name      Subject  Percentage\n",
      "SL No                                \n",
      "3      Vikas  Mathematics          84\n",
      "          Name  Subject  Percentage\n",
      "SL No                              \n",
      "4      Abhinav  English          78\n",
      "        Name      Subject  Percentage\n",
      "SL No                                \n",
      "3      Vikas  Mathematics          84\n"
     ]
    }
   ],
   "source": [
    "# pandas\n",
    "\n",
    "# All imports\n",
    "import pandas as pd\n",
    "\n",
    "# The file is stored at the following path:\n",
    "# 'https://media-doselect.s3.amazonaws.com/generic/A08MajL8qN4rq72EpVJbAP1Rw/marks_1.csv'\n",
    "# Provide your answer below\n",
    "\n",
    "df = pd.read_csv('marks_1.csv', header = None, sep = '|', index_col = 0)\n",
    "list_of_columns = ['Name', 'Subject', 'Marks Maximum', 'Marks Obtained', 'Percentage']\n",
    "df.columns = list_of_columns\n",
    "df.index.name = \"SL No\"\n",
    "print(df)\n",
    "\n",
    "print(\"===========================\")\n",
    "#print(df.loc[[2], [\"S.No.\", \"Name\", \"Subject\", \"Percentage\"]])\n",
    "print(df.loc[[3], [\"Name\", \"Subject\", \"Percentage\"]])\n",
    "print(df.iloc[[3], [0, 1, 4]])\n",
    "print(df.iloc[[2], [0, 1, 4]])\n",
    "#print(df.loc[[2], [0, 1, 4]])"
   ]
  },
  {
   "cell_type": "code",
   "execution_count": 138,
   "id": "f3fec838-4e55-411c-b9f1-6da627a43499",
   "metadata": {},
   "outputs": [
    {
     "name": "stdout",
     "output_type": "stream",
     "text": [
      "     X  Y month  day  FFMC    DMC     DC   ISI  temp  RH  wind  rain  area\n",
      "138  9  9   jul  tue  85.8   48.3  313.4   3.9  18.0  42   2.7   0.0  0.36\n",
      "139  1  4   sep  tue  91.0  129.5  692.6   7.0  21.7  38   2.2   0.0  0.43\n",
      "140  2  5   sep  mon  90.9  126.5  686.5   7.0  21.9  39   1.8   0.0  0.47\n",
      "141  1  2   aug  wed  95.5   99.9  513.3  13.2  23.3  31   4.5   0.0  0.55\n",
      "142  8  6   aug  fri  90.1  108.0  529.8  12.5  21.2  51   8.9   0.0  0.61\n",
      "143  1  2   jul  sat  90.0   51.3  296.3   8.7  16.6  53   5.4   0.0  0.71\n",
      "144  2  5   aug  wed  95.5   99.9  513.3  13.2  23.8  32   5.4   0.0  0.77\n",
      "145  6  5   aug  thu  95.2  131.7  578.8  10.4  27.4  22   4.0   0.0  0.90\n",
      "147  8  3   sep  tue  84.4   73.4  671.9   3.2  24.2  28   3.6   0.0  0.96\n",
      "148  2  2   aug  tue  94.8  108.3  647.1  17.0  17.4  43   6.7   0.0  1.07\n",
      "149  8  6   sep  thu  93.7   80.9  685.2  17.9  23.7  25   4.5   0.0  1.12\n",
      "150  6  5   jun  fri  92.5   56.4  433.3   7.1  23.2  39   5.4   0.0  1.19\n",
      "151  9  9   jul  sun  90.1   68.6  355.2   7.2  24.8  29   2.2   0.0  1.36\n",
      "152  3  4   jul  sat  90.1   51.2  424.1   6.2  24.6  43   1.8   0.0  1.43\n",
      "153  5  4   sep  fri  94.3   85.1  692.3  15.9  20.1  47   4.9   0.0  1.46\n",
      "154  1  5   sep  sat  93.4  145.4  721.4   8.1  29.6  27   2.7   0.0  1.46\n",
      "155  7  4   aug  sun  94.8  108.3  647.1  17.0  16.4  47   1.3   0.0  1.56\n",
      "156  2  4   sep  sat  93.4  145.4  721.4   8.1  28.6  27   2.2   0.0  1.61\n",
      "157  2  2   aug  wed  92.1  111.2  654.1   9.6  18.4  45   3.6   0.0  1.63\n",
      "158  2  4   aug  wed  92.1  111.2  654.1   9.6  20.5  35   4.0   0.0  1.64\n"
     ]
    }
   ],
   "source": [
    "import pandas as pd\n",
    "df = pd.read_csv('https://query.data.world/s/vBDCsoHCytUSLKkLvq851k2b8JOCkF')\n",
    "df_2 = df[ (df[\"area\"] > 0) & (df[\"wind\"] > 1) & (df[\"temp\"] > 15)]\n",
    "print(df_2.head(20))"
   ]
  },
  {
   "cell_type": "code",
   "execution_count": 182,
   "id": "f4caef7e-62fd-46ab-84fa-b53cab2148dd",
   "metadata": {},
   "outputs": [
    {
     "name": "stdout",
     "output_type": "stream",
     "text": [
      "      Department     Office  Rating Training\n",
      "ID                                          \n",
      "U2F26    Finance  New Delhi     3.4      Yes\n",
      "U2M61  Marketing  New Delhi     3.9       No\n",
      "U1S15      Sales  New Delhi     2.8      Yes\n",
      "U1H87         HR     Mumbai     2.1      Yes\n",
      "U1S51      Sales  New Delhi     4.6       No\n",
      "...          ...        ...     ...      ...\n",
      "U3S44      Sales  New Delhi     4.8       No\n",
      "U2M11  Marketing  Bangalore     2.5      Yes\n",
      "U3F53    Finance  Bangalore     3.2      Yes\n",
      "U3S46      Sales  Bangalore     2.9      Yes\n",
      "U3S28      Sales  New Delhi     2.9      Yes\n",
      "\n",
      "[533 rows x 4 columns]\n",
      "      Department     Office  Rating Training\n",
      "ID                                          \n",
      "U2F26    Finance  New Delhi     3.4      Yes\n",
      "U1S15      Sales  New Delhi     2.8      Yes\n",
      "U1H87         HR     Mumbai     2.1      Yes\n",
      "U3M44  Marketing  Bangalore     2.1      Yes\n",
      "U1S75      Sales  Bangalore     3.0      Yes\n",
      "...          ...        ...     ...      ...\n",
      "U1S22      Sales  Bangalore     3.4      Yes\n",
      "U2M11  Marketing  Bangalore     2.5      Yes\n",
      "U3F53    Finance  Bangalore     3.2      Yes\n",
      "U3S46      Sales  Bangalore     2.9      Yes\n",
      "U3S28      Sales  New Delhi     2.9      Yes\n",
      "\n",
      "[245 rows x 4 columns]\n",
      "(66, 4)\n",
      "(67, 4)\n",
      "(51, 4)\n",
      "(61, 4)\n",
      "Finance 1.0\n",
      "HR 1.0\n",
      "Sales 1.0\n",
      "Marketing 1.0\n",
      "Finance 0.5074626865671642\n",
      "HR 0.6106870229007634\n",
      "Sales 0.5307692307692308\n",
      "Marketing 0.5144927536231884\n"
     ]
    }
   ],
   "source": [
    "import numpy as np\n",
    "import pandas as pd\n",
    "\n",
    "# The file is stored at the following path:\n",
    "# 'https://media-doselect.s3.amazonaws.com/generic/NMgEjwkAEGGQZBoNYGr9Ld7w0/rating.csv'\n",
    "df = pd.read_csv('https://media-doselect.s3.amazonaws.com/generic/NMgEjwkAEGGQZBoNYGr9Ld7w0/rating.csv', index_col = 0)\n",
    "\n",
    "# Provide your answer below\n",
    "\n",
    "df[\"Training\"] = df[\"Rating\"].apply([lambda x: \"Yes\" if x < 3.5 else \"No\"])\n",
    "print(df)\n",
    "\n",
    "#Most efficient team\n",
    "\n",
    "#print(df.loc[\"Finance\"])\n",
    "\n",
    "who_need_training = df [ df[\"Training\"] == \"Yes\"]\n",
    "\n",
    "print(who_need_training)\n",
    "need_training_in_fin = who_need_training [ who_need_training[\"Department\"] == \"Finance\"]\n",
    "print(need_training_in_fin.shape)\n",
    "need_training_in_mar = who_need_training [ who_need_training[\"Department\"] == \"Marketing\"]\n",
    "print(need_training_in_mar.shape)\n",
    "need_training_in_hr = who_need_training [ who_need_training[\"Department\"] == \"HR\"]\n",
    "print(need_training_in_hr.shape)\n",
    "need_training_in_sales = who_need_training [ who_need_training[\"Department\"] == \"Sales\"]\n",
    "print(need_training_in_sales.shape)\n",
    "\n",
    "for i in ['Finance', 'HR', 'Sales', 'Marketing']:\n",
    "    print(i, len(who_need_training[(who_need_training['Department'] == i)]) / len(who_need_training[who_need_training['Department'] == i]))\n",
    "    \n",
    "#correct Answer\n",
    "for i in ['Finance', 'HR', 'Sales', 'Marketing']:\n",
    "    print(i, len(df[(df['Training'] == 'No') & (df['Department'] == i)]) / len(df[df['Department'] == i]))"
   ]
  },
  {
   "cell_type": "code",
   "execution_count": 234,
   "id": "2133e351-0a2c-4d43-8d35-8a2c2c3e590e",
   "metadata": {},
   "outputs": [
    {
     "name": "stdout",
     "output_type": "stream",
     "text": [
      "     X  Y month  day  FFMC    DMC     DC   ISI  temp  RH  wind  rain   area\n",
      "0    7  5   mar  fri  86.2   26.2   94.3   5.1   8.2  51   6.7   0.0   0.00\n",
      "1    7  4   oct  tue  90.6   35.4  669.1   6.7  18.0  33   0.9   0.0   0.00\n",
      "2    7  4   oct  sat  90.6   43.7  686.9   6.7  14.6  33   1.3   0.0   0.00\n",
      "3    8  6   mar  fri  91.7   33.3   77.5   9.0   8.3  97   4.0   0.2   0.00\n",
      "4    8  6   mar  sun  89.3   51.3  102.2   9.6  11.4  99   1.8   0.0   0.00\n",
      "..  .. ..   ...  ...   ...    ...    ...   ...   ...  ..   ...   ...    ...\n",
      "512  4  3   aug  sun  81.6   56.7  665.6   1.9  27.8  32   2.7   0.0   6.44\n",
      "513  2  4   aug  sun  81.6   56.7  665.6   1.9  21.9  71   5.8   0.0  54.29\n",
      "514  7  4   aug  sun  81.6   56.7  665.6   1.9  21.2  70   6.7   0.0  11.16\n",
      "515  1  4   aug  sat  94.4  146.0  614.7  11.3  25.6  42   4.0   0.0   0.00\n",
      "516  6  3   nov  tue  79.5    3.0  106.7   1.1  11.8  31   4.5   0.0   0.00\n",
      "\n",
      "[517 rows x 13 columns]\n",
      "                  X         Y       FFMC         DMC          DC       ISI  \\\n",
      "month day                                                                    \n",
      "apr   fri  4.000000  4.000000  83.000000   23.300000   85.300000  2.300000   \n",
      "      mon  6.000000  5.000000  87.900000   24.900000   41.600000  3.700000   \n",
      "      sat  6.000000  4.000000  86.300000   27.400000   97.100000  5.100000   \n",
      "      sun  6.000000  4.000000  87.966667   10.733333   19.700000  9.366667   \n",
      "      thu  6.000000  5.000000  81.500000    9.100000   55.200000  2.700000   \n",
      "...             ...       ...        ...         ...         ...       ...   \n",
      "sep   sat  4.600000  4.320000  92.072000  116.148000  729.480000  8.596000   \n",
      "      sun  3.629630  3.962963  90.062963  133.659259  736.318519  7.592593   \n",
      "      thu  4.285714  4.095238  92.371429  121.652381  739.400000  9.528571   \n",
      "      tue  4.684211  4.157895  90.036842  112.989474  718.136842  6.826316   \n",
      "      wed  4.500000  4.500000  91.650000  123.964286  738.442857  8.507143   \n",
      "\n",
      "                temp         RH      wind  rain       area  \n",
      "month day                                                   \n",
      "apr   fri  16.700000  20.000000  3.100000   0.0   0.000000  \n",
      "      mon  10.900000  64.000000  3.100000   0.0   3.350000  \n",
      "      sat   9.300000  44.000000  4.500000   0.0   0.000000  \n",
      "      sun  14.900000  45.000000  5.666667   0.0  20.376667  \n",
      "      thu   5.800000  54.000000  5.800000   0.0   7.770000  \n",
      "...              ...        ...       ...   ...        ...  \n",
      "sep   sat  21.524000  37.840000  3.460000   0.0  61.804400  \n",
      "      sun  20.437037  48.000000  3.955556   0.0  14.010741  \n",
      "      thu  20.390476  30.380952  3.357143   0.0   5.356190  \n",
      "      tue  18.721053  43.736842  3.431579   0.0  26.352105  \n",
      "      wed  20.407143  37.857143  3.378571   0.0  13.028571  \n",
      "\n",
      "[64 rows x 11 columns]\n"
     ]
    },
    {
     "data": {
      "text/html": [
       "<div>\n",
       "<style scoped>\n",
       "    .dataframe tbody tr th:only-of-type {\n",
       "        vertical-align: middle;\n",
       "    }\n",
       "\n",
       "    .dataframe tbody tr th {\n",
       "        vertical-align: top;\n",
       "    }\n",
       "\n",
       "    .dataframe thead th {\n",
       "        text-align: right;\n",
       "    }\n",
       "</style>\n",
       "<table border=\"1\" class=\"dataframe\">\n",
       "  <thead>\n",
       "    <tr style=\"text-align: right;\">\n",
       "      <th></th>\n",
       "      <th></th>\n",
       "      <th>rain</th>\n",
       "      <th>wind</th>\n",
       "    </tr>\n",
       "    <tr>\n",
       "      <th>month</th>\n",
       "      <th>day</th>\n",
       "      <th></th>\n",
       "      <th></th>\n",
       "    </tr>\n",
       "  </thead>\n",
       "  <tbody>\n",
       "    <tr>\n",
       "      <th rowspan=\"6\" valign=\"top\">apr</th>\n",
       "      <th>fri</th>\n",
       "      <td>0.000000</td>\n",
       "      <td>3.100000</td>\n",
       "    </tr>\n",
       "    <tr>\n",
       "      <th>mon</th>\n",
       "      <td>0.000000</td>\n",
       "      <td>3.100000</td>\n",
       "    </tr>\n",
       "    <tr>\n",
       "      <th>sat</th>\n",
       "      <td>0.000000</td>\n",
       "      <td>4.500000</td>\n",
       "    </tr>\n",
       "    <tr>\n",
       "      <th>sun</th>\n",
       "      <td>0.000000</td>\n",
       "      <td>5.666667</td>\n",
       "    </tr>\n",
       "    <tr>\n",
       "      <th>thu</th>\n",
       "      <td>0.000000</td>\n",
       "      <td>5.800000</td>\n",
       "    </tr>\n",
       "    <tr>\n",
       "      <th>wed</th>\n",
       "      <td>0.000000</td>\n",
       "      <td>2.700000</td>\n",
       "    </tr>\n",
       "    <tr>\n",
       "      <th rowspan=\"7\" valign=\"top\">aug</th>\n",
       "      <th>fri</th>\n",
       "      <td>0.066667</td>\n",
       "      <td>4.766667</td>\n",
       "    </tr>\n",
       "    <tr>\n",
       "      <th>mon</th>\n",
       "      <td>0.000000</td>\n",
       "      <td>2.873333</td>\n",
       "    </tr>\n",
       "    <tr>\n",
       "      <th>sat</th>\n",
       "      <td>0.000000</td>\n",
       "      <td>4.310345</td>\n",
       "    </tr>\n",
       "    <tr>\n",
       "      <th>sun</th>\n",
       "      <td>0.025000</td>\n",
       "      <td>4.417500</td>\n",
       "    </tr>\n",
       "    <tr>\n",
       "      <th>thu</th>\n",
       "      <td>0.000000</td>\n",
       "      <td>3.503846</td>\n",
       "    </tr>\n",
       "    <tr>\n",
       "      <th>tue</th>\n",
       "      <td>0.300000</td>\n",
       "      <td>4.567857</td>\n",
       "    </tr>\n",
       "    <tr>\n",
       "      <th>wed</th>\n",
       "      <td>0.000000</td>\n",
       "      <td>3.520000</td>\n",
       "    </tr>\n",
       "    <tr>\n",
       "      <th rowspan=\"6\" valign=\"top\">dec</th>\n",
       "      <th>fri</th>\n",
       "      <td>0.000000</td>\n",
       "      <td>4.900000</td>\n",
       "    </tr>\n",
       "    <tr>\n",
       "      <th>mon</th>\n",
       "      <td>0.000000</td>\n",
       "      <td>8.500000</td>\n",
       "    </tr>\n",
       "    <tr>\n",
       "      <th>sun</th>\n",
       "      <td>0.000000</td>\n",
       "      <td>8.500000</td>\n",
       "    </tr>\n",
       "    <tr>\n",
       "      <th>thu</th>\n",
       "      <td>0.000000</td>\n",
       "      <td>4.900000</td>\n",
       "    </tr>\n",
       "    <tr>\n",
       "      <th>tue</th>\n",
       "      <td>0.000000</td>\n",
       "      <td>8.500000</td>\n",
       "    </tr>\n",
       "    <tr>\n",
       "      <th>wed</th>\n",
       "      <td>0.000000</td>\n",
       "      <td>8.000000</td>\n",
       "    </tr>\n",
       "    <tr>\n",
       "      <th>feb</th>\n",
       "      <th>fri</th>\n",
       "      <td>0.000000</td>\n",
       "      <td>4.820000</td>\n",
       "    </tr>\n",
       "  </tbody>\n",
       "</table>\n",
       "</div>"
      ],
      "text/plain": [
       "               rain      wind\n",
       "month day                    \n",
       "apr   fri  0.000000  3.100000\n",
       "      mon  0.000000  3.100000\n",
       "      sat  0.000000  4.500000\n",
       "      sun  0.000000  5.666667\n",
       "      thu  0.000000  5.800000\n",
       "      wed  0.000000  2.700000\n",
       "aug   fri  0.066667  4.766667\n",
       "      mon  0.000000  2.873333\n",
       "      sat  0.000000  4.310345\n",
       "      sun  0.025000  4.417500\n",
       "      thu  0.000000  3.503846\n",
       "      tue  0.300000  4.567857\n",
       "      wed  0.000000  3.520000\n",
       "dec   fri  0.000000  4.900000\n",
       "      mon  0.000000  8.500000\n",
       "      sun  0.000000  8.500000\n",
       "      thu  0.000000  4.900000\n",
       "      tue  0.000000  8.500000\n",
       "      wed  0.000000  8.000000\n",
       "feb   fri  0.000000  4.820000"
      ]
     },
     "execution_count": 234,
     "metadata": {},
     "output_type": "execute_result"
    }
   ],
   "source": [
    "import pandas as pd\n",
    "df = pd.read_csv('https://query.data.world/s/vBDCsoHCytUSLKkLvq851k2b8JOCkF')\n",
    "print(df)\n",
    "#Type your groupby command here\n",
    "df_1 = df.groupby([\"month\",\"day\"]).mean()\n",
    "\n",
    "print(df_1)\n",
    "#print(df_1.head(20))\n",
    "df_1[['rain','wind']].head(20)\n",
    "#df_1[\"rain\", \"wind\"]\n",
    "#['rain', 'wind']"
   ]
  },
  {
   "cell_type": "code",
   "execution_count": 459,
   "id": "259171fc-a0fa-4cc4-92c0-03409bf134fb",
   "metadata": {},
   "outputs": [
    {
     "name": "stdout",
     "output_type": "stream",
     "text": [
      "   Country  Medals\n",
      "0      USA    72.0\n",
      "1   France    53.0\n",
      "2       UK    27.0\n",
      "3   Russia    25.0\n",
      "4  Germany    20.0\n",
      "         Medals\n",
      "Country        \n",
      "USA          72\n",
      "France       53\n",
      "Russia       25\n",
      "Germany      20\n",
      "UK           27\n",
      "   Country  Medals\n",
      "0      USA      72\n",
      "1   France      53\n",
      "4       UK      27\n",
      "2   Russia      25\n",
      "3  Germany      20\n"
     ]
    }
   ],
   "source": [
    "import numpy as np \n",
    "import pandas as pd\n",
    "\n",
    "# Defining the three dataframes indicating the gold, silver, and bronze medal counts\n",
    "# of different countries\n",
    "gold = pd.DataFrame({'Country': ['USA', 'France', 'Russia'],\n",
    "                         'Medals': [15, 13, 9]}\n",
    "                    )\n",
    "silver = pd.DataFrame({'Country': ['USA', 'Germany', 'Russia'],\n",
    "                        'Medals': [29, 20, 16]}\n",
    "                    )\n",
    "bronze = pd.DataFrame({'Country': ['France', 'USA', 'UK'],\n",
    "                        'Medals': [40, 28, 27]}\n",
    "                    )\n",
    "#print(gold, '\\n', silver, '\\n', bronze)\n",
    "\n",
    "#Expected output\n",
    "#         Medals\n",
    "#Country        \n",
    "#USA          72\n",
    "#France       53\n",
    "#UK           27\n",
    "#Russia       25\n",
    "#Germany      20\n",
    "#keyboard_arrow_up\n",
    "\n",
    "\n",
    "final = gold.merge(silver, on = \"Country\", how = \"outer\")\n",
    "\n",
    "final = final.merge(bronze, on = \"Country\", how = \"outer\")\n",
    "\n",
    "final[\"Medals_x\"] = final[\"Medals_x\"].add(0, fill_value = 0)\n",
    "\n",
    "final[\"Medals_y\"] = final[\"Medals_y\"].add(0, fill_value = 0)\n",
    "final[\"Medals\"] = final[\"Medals\"].add(0, fill_value = 0)\n",
    "\n",
    "\n",
    "final[\"Medals\"] = final[\"Medals_x\"] + final[\"Medals_y\"] + final[\"Medals\"]\n",
    "\n",
    "\n",
    "\n",
    "final = final.drop([\"Medals_x\", \"Medals_y\"], axis=1)\n",
    "\n",
    "print(final.sort_values(\"Medals\", ascending=False, ignore_index = True))\n",
    "\n",
    "final[\"Medals\"].astype(int)\n",
    "\n",
    "final['Medals'] = final['Medals'].astype('int')\n",
    "print(final.set_index([\"Country\"]))\n",
    "final = final.sort_values(\"Medals\", ascending=False)\n",
    "\n",
    "print(final)"
   ]
  },
  {
   "cell_type": "code",
   "execution_count": 426,
   "id": "963468f3-4afc-4e1d-8bf7-5c8ccb6365c7",
   "metadata": {},
   "outputs": [
    {
     "ename": "NameError",
     "evalue": "name 'ing' is not defined",
     "output_type": "error",
     "traceback": [
      "\u001b[0;31m---------------------------------------------------------------------------\u001b[0m",
      "\u001b[0;31mNameError\u001b[0m                                 Traceback (most recent call last)",
      "\u001b[0;32m<ipython-input-426-a70b73da0e21>\u001b[0m in \u001b[0;36m<module>\u001b[0;34m\u001b[0m\n\u001b[1;32m      9\u001b[0m \u001b[0mdf_1\u001b[0m \u001b[0;34m=\u001b[0m \u001b[0mpd\u001b[0m\u001b[0;34m.\u001b[0m\u001b[0mread_csv\u001b[0m\u001b[0;34m(\u001b[0m\u001b[0;34m'https://query.data.world/s/vv3snq28bp0TJq2ggCdxGOghEQKPZo'\u001b[0m\u001b[0;34m)\u001b[0m\u001b[0;34m\u001b[0m\u001b[0;34m\u001b[0m\u001b[0m\n\u001b[1;32m     10\u001b[0m \u001b[0mdf_2\u001b[0m \u001b[0;34m=\u001b[0m \u001b[0mpd\u001b[0m\u001b[0;34m.\u001b[0m\u001b[0mread_csv\u001b[0m\u001b[0;34m(\u001b[0m\u001b[0;34m'https://query.data.world/s/9wVKjNT0yiRc3YbVJaiI8a6HGl2d74'\u001b[0m\u001b[0;34m)\u001b[0m\u001b[0;34m\u001b[0m\u001b[0;34m\u001b[0m\u001b[0m\n\u001b[0;32m---> 11\u001b[0;31m \u001b[0mdf_3\u001b[0m \u001b[0;34m=\u001b[0m \u001b[0mdf_1\u001b[0m\u001b[0;34m.\u001b[0m\u001b[0mappend\u001b[0m\u001b[0;34m(\u001b[0m\u001b[0mdf_2\u001b[0m\u001b[0;34m,\u001b[0m \u001b[0ming\u001b[0m\u001b[0;34m)\u001b[0m\u001b[0;34m\u001b[0m\u001b[0;34m\u001b[0m\u001b[0m\n\u001b[0m\u001b[1;32m     12\u001b[0m \u001b[0mprint\u001b[0m\u001b[0;34m(\u001b[0m\u001b[0mdf_1\u001b[0m\u001b[0;34m.\u001b[0m\u001b[0mhead\u001b[0m\u001b[0;34m(\u001b[0m\u001b[0;34m)\u001b[0m\u001b[0;34m)\u001b[0m\u001b[0;34m\u001b[0m\u001b[0;34m\u001b[0m\u001b[0m\n\u001b[1;32m     13\u001b[0m \u001b[0mprint\u001b[0m\u001b[0;34m(\u001b[0m\u001b[0mdf_2\u001b[0m\u001b[0;34m.\u001b[0m\u001b[0mhead\u001b[0m\u001b[0;34m(\u001b[0m\u001b[0;34m)\u001b[0m\u001b[0;34m)\u001b[0m\u001b[0;34m\u001b[0m\u001b[0;34m\u001b[0m\u001b[0m\n",
      "\u001b[0;31mNameError\u001b[0m: name 'ing' is not defined"
     ]
    }
   ],
   "source": [
    "import warnings\n",
    "import os, ssl\n",
    "if (not os.environ.get('PYTHONHTTPSVERIFY', '') and\n",
    "    getattr(ssl, '_create_unverified_context', None)):\n",
    "    ssl._create_default_https_context = ssl._create_unverified_context\n",
    "warnings.simplefilter(\"ignore\")\n",
    "\n",
    "import pandas as pd\n",
    "df_1 = pd.read_csv('https://query.data.world/s/vv3snq28bp0TJq2ggCdxGOghEQKPZo')\n",
    "df_2 = pd.read_csv('https://query.data.world/s/9wVKjNT0yiRc3YbVJaiI8a6HGl2d74')\n",
    "df_3 =pd.concat([df_1, df_2], axis = 0)\n",
    "print(df_1.head())#print(df_2.head())\n",
    "print(df_3.head())"
   ]
  },
  {
   "cell_type": "code",
   "execution_count": 481,
   "id": "5048b4d7-3e3e-4f53-bd54-178889e37446",
   "metadata": {},
   "outputs": [
    {
     "name": "stdout",
     "output_type": "stream",
     "text": [
      "               rain      wind\n",
      "month day                    \n",
      "apr   fri  0.000000  3.100000\n",
      "      mon  0.000000  3.100000\n",
      "      sat  0.000000  4.500000\n",
      "      sun  0.000000  5.666667\n",
      "      thu  0.000000  5.800000\n",
      "      wed  0.000000  2.700000\n",
      "aug   fri  0.066667  4.766667\n",
      "      mon  0.000000  2.873333\n",
      "      sat  0.000000  4.310345\n",
      "      sun  0.025000  4.417500\n",
      "      thu  0.000000  3.503846\n",
      "      tue  0.300000  4.567857\n",
      "      wed  0.000000  3.520000\n",
      "dec   fri  0.000000  4.900000\n",
      "      mon  0.000000  8.500000\n",
      "      sun  0.000000  8.500000\n",
      "      thu  0.000000  4.900000\n",
      "      tue  0.000000  8.500000\n",
      "      wed  0.000000  8.000000\n",
      "feb   fri  0.000000  4.820000\n"
     ]
    }
   ],
   "source": [
    "import numpy as np\n",
    "import pandas as pd\n",
    "df = pd.read_csv('https://query.data.world/s/vBDCsoHCytUSLKkLvq851k2b8JOCkF')\n",
    "#Group the data 'df' by 'month' and 'day' and find the mean value for column 'rain' and 'wind' using the pivot table command.\n",
    "\n",
    "df_1 = df.pivot_table(index = ['month','day'] , values = ['rain', 'wind'], aggfunc = 'mean')\n",
    "\n",
    "print(df_1.head(20))"
   ]
  },
  {
   "cell_type": "code",
   "execution_count": 13,
   "id": "2658b515-b043-4a27-b055-849a080860f1",
   "metadata": {},
   "outputs": [
    {
     "name": "stdout",
     "output_type": "stream",
     "text": [
      "['memtrace_rpd_default_global.22888.0.0', 'memtrace_rpd_default_global.22888.0.1', 'memtrace_rpd_default_global.22888.0.2', 'memtrace_rpd_default_global.22888.0.3', 'memtrace_rpd_default_global.22888.0.4', 'memtrace_rpd_default_global.22888.0.5', 'memtrace_rpd_default_global.22888.0.6', 'memtrace_rpd_default_global.22888.0.7', 'memtrace_rpd_default_global.22888.0.8', 'memtrace_rpd_default_global.22888.0.9', 'memtrace_rpd_default_global.22888.0.10', 'memtrace_rpd_default_global.22888.0.11', 'memtrace_rpd_default_global.22888.0.12', 'memtrace_rpd_default_global.22888.0.13', 'memtrace_rpd_default_global.22888.0.14', 'memtrace_rpd_default_global.22888.0.15', 'memtrace_rpd_default_global.22888.0.16', 'memtrace_rpd_default_global.22888.0.17', 'memtrace_rpd_default_global.22888.0.18', 'memtrace_rpd_default_global.22888.0.19', 'memtrace_rpd_default_global.22888.0.20', 'memtrace_rpd_default_global.22888.0.21', 'memtrace_rpd_default_global.22888.0.22', 'memtrace_rpd_default_global.22888.0.23', 'memtrace_rpd_default_global.22888.0.24', 'memtrace_rpd_default_global.22888.0.25', 'memtrace_rpd_default_global.22888.0.26', 'memtrace_rpd_default_global.22888.0.27', 'memtrace_rpd_default_global.22888.0.28', 'memtrace_rpd_default_global.22888.0.29', 'memtrace_rpd_default_global.22888.0.30', 'memtrace_rpd_default_global.22888.0.31', 'memtrace_rpd_default_global.22888.0.32', 'memtrace_rpd_default_global.22888.0.33', 'memtrace_rpd_default_global.22888.0.34', 'memtrace_rpd_default_global.22888.0.35', 'memtrace_rpd_default_global.22888.0.36', 'memtrace_rpd_default_global.22888.0.37', 'memtrace_rpd_default_global.22888.0.38', 'memtrace_rpd_default_global.22888.0.39', 'memtrace_rpd_default_global.22888.0.40', 'memtrace_rpd_default_global.22888.0.41', 'memtrace_rpd_default_global.22888.0.42', 'memtrace_rpd_default_global.22888.0.43', 'memtrace_rpd_default_global.22888.0.44', 'memtrace_rpd_default_global.22888.0.45', 'memtrace_rpd_default_global.22888.0.46', 'memtrace_rpd_default_global.22888.0.47', 'memtrace_rpd_default_global.22888.0.48', 'memtrace_rpd_default_global.22888.0.49', 'memtrace_rpd_default_global.22888.0.50', 'memtrace_rpd_default_global.22888.0.51', 'memtrace_rpd_default_global.22888.0.52', 'memtrace_rpd_default_global.22888.0.53', 'memtrace_rpd_default_global.22888.0.54', 'memtrace_rpd_default_global.22888.0.55', 'memtrace_rpd_default_global.22888.0.56', 'memtrace_rpd_default_global.22888.0.57', 'memtrace_rpd_default_global.22888.0.58', 'memtrace_rpd_default_global.22888.0.59', 'memtrace_rpd_default_global.22888.0.60', 'memtrace_rpd_default_global.22888.0.61', 'memtrace_rpd_default_global.22888.0.62', 'memtrace_rpd_default_global.22888.0.63', 'memtrace_rpd_default_global.22888.0.64', 'memtrace_rpd_default_global.22888.0.65', 'memtrace_rpd_default_global.22888.0.66', 'memtrace_rpd_default_global.22888.0.67', 'memtrace_rpd_default_global.22888.0.68', 'memtrace_rpd_default_global.22888.0.69', 'memtrace_rpd_default_global.22888.0.70', 'memtrace_rpd_default_global.22888.0.71', 'memtrace_rpd_default_global.22888.0.72', 'memtrace_rpd_default_global.22888.0.73', 'memtrace_rpd_default_global.22888.0.74', 'memtrace_rpd_default_global.22888.0.75', 'memtrace_rpd_default_global.22888.0.76', 'memtrace_rpd_default_global.22888.0.77', 'memtrace_rpd_default_global.22888.0.78', 'memtrace_rpd_default_global.22888.0.79', 'memtrace_rpd_default_global.22888.0.80', 'memtrace_rpd_default_global.22888.0.81', 'memtrace_rpd_default_global.22888.0.82', 'memtrace_rpd_default_global.22888.0.83', 'memtrace_rpd_default_global.22888.0.84', 'memtrace_rpd_default_global.22888.0.85', 'memtrace_rpd_default_global.22888.0.86', 'memtrace_rpd_default_global.22888.0.87', 'memtrace_rpd_default_global.22888.0.88', 'memtrace_rpd_default_global.22888.0.89', 'memtrace_rpd_default_global.22888.0.90', 'memtrace_rpd_default_global.22888.0.91', 'memtrace_rpd_default_global.22888.0.92', 'memtrace_rpd_default_global.22888.0.93', 'memtrace_rpd_default_global.22888.0.94', 'memtrace_rpd_default_global.22888.0.95', 'memtrace_rpd_default_global.22888.0.96', 'memtrace_rpd_default_global.22888.0.97', 'memtrace_rpd_default_global.22888.0.98', 'memtrace_rpd_default_global.22888.0.99', 'memtrace_rpd_default_global.22888.0.100', 'memtrace_rpd_default_global.22888.0.101', 'memtrace_rpd_default_global.22888.0.102', 'memtrace_rpd_default_global.22888.0.103', 'memtrace_rpd_default_global.22888.0.104', 'memtrace_rpd_default_global.22888.0.105', 'memtrace_rpd_default_global.22888.0.106', 'memtrace_rpd_default_global.22888.0.107', 'memtrace_rpd_default_global.22888.0.108', 'memtrace_rpd_default_global.22888.0.109', 'memtrace_rpd_default_global.22888.0.110', 'memtrace_rpd_default_global.22888.0.111', 'memtrace_rpd_default_global.22888.0.112', 'memtrace_rpd_default_global.22888.0.113', 'memtrace_rpd_default_global.22888.0.114', 'memtrace_rpd_default_global.22888.0.115', 'memtrace_rpd_default_global.22888.0.116', 'memtrace_rpd_default_global.22888.0.117', 'memtrace_rpd_default_global.22888.0.118', 'memtrace_rpd_default_global.22888.0.119', 'memtrace_rpd_default_global.22888.0.120', 'memtrace_rpd_default_global.22888.0.121', 'memtrace_rpd_default_global.22888.0.122', 'memtrace_rpd_default_global.22888.0.123', 'memtrace_rpd_default_global.22888.0.124', 'memtrace_rpd_default_global.22888.0.125', 'memtrace_rpd_default_global.22888.0.126', 'memtrace_rpd_default_global.22888.0.127', 'memtrace_rpd_default_global.22888.0.128', 'memtrace_rpd_default_global.22888.0.129', 'memtrace_rpd_default_global.22888.0.130', 'memtrace_rpd_default_global.22888.0.131', 'memtrace_rpd_default_global.22888.0.132', 'memtrace_rpd_default_global.22888.0.133', 'memtrace_rpd_default_global.22888.0.134', 'memtrace_rpd_default_global.22888.0.135', 'memtrace_rpd_default_global.22888.0.136', 'memtrace_rpd_default_global.22888.0.137', 'memtrace_rpd_default_global.22888.0.138', 'memtrace_rpd_default_global.22888.0.139', 'memtrace_rpd_default_global.22888.0.140', 'memtrace_rpd_default_global.22888.0.141', 'memtrace_rpd_default_global.22888.0.142', 'memtrace_rpd_default_global.22888.0.143', 'memtrace_rpd_default_global.22888.0.144', 'memtrace_rpd_default_global.22888.0.145', 'memtrace_rpd_default_global.22888.0.146', 'memtrace_rpd_default_global.22888.0.147', 'memtrace_rpd_default_global.22888.0.148', 'memtrace_rpd_default_global.22888.0.149', 'memtrace_rpd_default_global.22888.0.150', 'memtrace_rpd_default_global.22888.0.151', 'memtrace_rpd_default_global.22888.0.152', 'memtrace_rpd_default_global.22888.0.153', 'memtrace_rpd_default_global.22888.0.154', 'memtrace_rpd_default_global.22888.0.155', 'memtrace_rpd_default_global.22888.0.156', 'memtrace_rpd_default_global.22888.0.157', 'memtrace_rpd_default_global.22888.0.158', 'memtrace_rpd_default_global.22888.0.159', 'memtrace_rpd_default_global.22888.0.160', 'memtrace_rpd_default_global.22888.0.161', 'memtrace_rpd_default_global.22888.0.162', 'memtrace_rpd_default_global.22888.0.163', 'memtrace_rpd_default_global.22888.0.164', 'memtrace_rpd_default_global.22888.0.165', 'memtrace_rpd_default_global.22888.0.166', 'memtrace_rpd_default_global.22888.0.167', 'memtrace_rpd_default_global.22888.0.168', 'memtrace_rpd_default_global.22888.0.169', 'memtrace_rpd_default_global.22888.0.170', 'memtrace_rpd_default_global.22888.0.171', 'memtrace_rpd_default_global.22888.0.172', 'memtrace_rpd_default_global.22888.0.173', 'memtrace_rpd_default_global.22888.0.174', 'memtrace_rpd_default_global.22888.0.175', 'memtrace_rpd_default_global.22888.0.176', 'memtrace_rpd_default_global.22888.0.177', 'memtrace_rpd_default_global.22888.0.178', 'memtrace_rpd_default_global.22888.0.179', 'memtrace_rpd_default_global.22888.0.180', 'memtrace_rpd_default_global.22888.0.181', 'memtrace_rpd_default_global.22888.0.182', 'memtrace_rpd_default_global.22888.0.183', 'memtrace_rpd_default_global.22888.0.184', 'memtrace_rpd_default_global.22888.0.185', 'memtrace_rpd_default_global.22888.0.186', 'memtrace_rpd_default_global.22888.0.187', 'memtrace_rpd_default_global.22888.0.188', 'memtrace_rpd_default_global.22888.0.189', 'memtrace_rpd_default_global.22888.0.190', 'memtrace_rpd_default_global.22888.0.191', 'memtrace_rpd_default_global.22888.0.192', 'memtrace_rpd_default_global.22888.0.193', 'memtrace_rpd_default_global.22888.0.194', 'memtrace_rpd_default_global.22888.0.195', 'memtrace_rpd_default_global.22888.0.196', 'memtrace_rpd_default_global.22888.0.197', 'memtrace_rpd_default_global.22888.0.198', 'memtrace_rpd_default_global.22888.0.199', 'memtrace_rpd_default_global.22888.0.200', 'memtrace_rpd_default_global.22888.0.201', 'memtrace_rpd_default_global.22888.0.202', 'memtrace_rpd_default_global.22888.0.203', 'memtrace_rpd_default_global.22888.0.204', 'memtrace_rpd_default_global.22888.0.205', 'memtrace_rpd_default_global.22888.0.206', 'memtrace_rpd_default_global.22888.0.207', 'memtrace_rpd_default_global.22888.0.208', 'memtrace_rpd_default_global.22888.0.209', 'memtrace_rpd_default_global.22888.0.210', 'memtrace_rpd_default_global.22888.0.211', 'memtrace_rpd_default_global.22888.0.212', 'memtrace_rpd_default_global.22888.0.213', 'memtrace_rpd_default_global.22888.0.214', 'memtrace_rpd_default_global.22888.0.215', 'memtrace_rpd_default_global.22888.0.216', 'memtrace_rpd_default_global.22888.0.217', 'memtrace_rpd_default_global.22888.0.218', 'memtrace_rpd_default_global.22888.0.219', 'memtrace_rpd_default_global.22888.0.220', 'memtrace_rpd_default_global.22888.0.221', 'memtrace_rpd_default_global.22888.0.222', 'memtrace_rpd_default_global.22888.0.223', 'memtrace_rpd_default_global.22888.0.224', 'memtrace_rpd_default_global.22888.0.225', 'memtrace_rpd_default_global.22888.0.226', 'memtrace_rpd_default_global.22888.0.227', 'memtrace_rpd_default_global.22888.0.228', 'memtrace_rpd_default_global.22888.0.229', 'memtrace_rpd_default_global.22888.0.230', 'memtrace_rpd_default_global.22888.0.231', 'memtrace_rpd_default_global.22888.0.232', 'memtrace_rpd_default_global.22888.0.233', 'memtrace_rpd_default_global.22888.0.234', 'memtrace_rpd_default_global.22888.0.235', 'memtrace_rpd_default_global.22888.0.236', 'memtrace_rpd_default_global.22888.0.237', 'memtrace_rpd_default_global.22888.0.238', 'memtrace_rpd_default_global.22888.0.239', 'memtrace_rpd_default_global.22888.0.240', 'memtrace_rpd_default_global.22888.0.241', 'memtrace_rpd_default_global.22888.0.242', 'memtrace_rpd_default_global.22888.0.243', 'memtrace_rpd_default_global.22888.0.244', 'memtrace_rpd_default_global.22888.0.245', 'memtrace_rpd_default_global.22888.0.246', 'memtrace_rpd_default_global.22888.0.247', 'memtrace_rpd_default_global.22888.0.248', 'memtrace_rpd_default_global.22888.0.249', 'memtrace_rpd_default_global.22888.0.250', 'memtrace_rpd_default_global.22888.0.251', 'memtrace_rpd_default_global.22888.0.252', 'memtrace_rpd_default_global.22888.0.253', 'memtrace_rpd_default_global.22888.0.254', 'memtrace_rpd_default_global.22888.0.255', 'memtrace_rpd_default_global.22888.0.256', 'memtrace_rpd_default_global.22888.0.257', 'memtrace_rpd_default_global.22999.0.0', 'memtrace_rpd_default_global.22999.0.1', 'memtrace_rpd_default_global.22999.0.2']\n"
     ]
    }
   ],
   "source": [
    "import re\n",
    "def sort_nicely( l ):\n",
    "    #\"\"\" Sort the given list in the way that humans expect.\"\"\"\n",
    "    convert = lambda text: int(text) if text.isdigit() else text\n",
    "    alphanum_key = lambda key: [ convert(c) for c in re.split('([0-9]+)', key) ]\n",
    "    l.sort( key=alphanum_key )\n",
    "    print(l)\n",
    "\n",
    "    \n",
    "l = [\"memtrace_rpd_default_global.22888.0.159\",\"memtrace_rpd_default_global.22888.0.225\",\"memtrace_rpd_default_global.22888.0.60\",\"memtrace_rpd_default_global.22888.0.16\",\"memtrace_rpd_default_global.22888.0.226\",\"memtrace_rpd_default_global.22888.0.61\",\"memtrace_rpd_default_global.22888.0.160\",\"memtrace_rpd_default_global.22888.0.227\",\"memtrace_rpd_default_global.22888.0.62\",\"memtrace_rpd_default_global.22888.0.161\",\"memtrace_rpd_default_global.22888.0.228\",\"memtrace_rpd_default_global.22888.0.63\",\"memtrace_rpd_default_global.22888.0.162\",\"memtrace_rpd_default_global.22888.0.229\",\"memtrace_rpd_default_global.22888.0.64\",\"memtrace_rpd_default_global.22888.0.163\",\"memtrace_rpd_default_global.22888.0.23\",\"memtrace_rpd_default_global.22888.0.65\",\"memtrace_rpd_default_global.22888.0.164\",\"memtrace_rpd_default_global.22888.0.230\",\"memtrace_rpd_default_global.22888.0.66\",\"memtrace_rpd_default_global.22888.0.0\",\"memtrace_rpd_default_global.22888.0.165\",\"memtrace_rpd_default_global.22888.0.231\",\"memtrace_rpd_default_global.22888.0.67\",\"memtrace_rpd_default_global.22888.0.1\",\"memtrace_rpd_default_global.22888.0.166\",\"memtrace_rpd_default_global.22888.0.232\",\"memtrace_rpd_default_global.22888.0.68\",\"memtrace_rpd_default_global.22888.0.10\",\"memtrace_rpd_default_global.22888.0.167\",\"memtrace_rpd_default_global.22888.0.233\",\"memtrace_rpd_default_global.22888.0.69\",\"memtrace_rpd_default_global.22888.0.100\",\"memtrace_rpd_default_global.22888.0.168\",\"memtrace_rpd_default_global.22888.0.234\",\"memtrace_rpd_default_global.22888.0.7\",\"memtrace_rpd_default_global.22888.0.101\",\"memtrace_rpd_default_global.22888.0.169\",\"memtrace_rpd_default_global.22888.0.235\",\"memtrace_rpd_default_global.22888.0.70\",\"memtrace_rpd_default_global.22888.0.102\",\"memtrace_rpd_default_global.22888.0.17\",\"memtrace_rpd_default_global.22888.0.236\",\"memtrace_rpd_default_global.22888.0.71\",\"memtrace_rpd_default_global.22888.0.103\",\"memtrace_rpd_default_global.22888.0.170\",\"memtrace_rpd_default_global.22888.0.237\",\"memtrace_rpd_default_global.22888.0.72\",\"memtrace_rpd_default_global.22888.0.104\",\"memtrace_rpd_default_global.22888.0.171\",\"memtrace_rpd_default_global.22888.0.238\",\"memtrace_rpd_default_global.22888.0.73\",\"memtrace_rpd_default_global.22888.0.105\",\"memtrace_rpd_default_global.22888.0.172\",\"memtrace_rpd_default_global.22888.0.239\",\"memtrace_rpd_default_global.22888.0.74\",\"memtrace_rpd_default_global.22888.0.106\",\"memtrace_rpd_default_global.22888.0.173\",\"memtrace_rpd_default_global.22888.0.24\",\"memtrace_rpd_default_global.22888.0.75\",\"memtrace_rpd_default_global.22888.0.107\",\"memtrace_rpd_default_global.22888.0.174\",\"memtrace_rpd_default_global.22888.0.240\",\"memtrace_rpd_default_global.22888.0.76\",\"memtrace_rpd_default_global.22888.0.108\",\"memtrace_rpd_default_global.22888.0.175\",\"memtrace_rpd_default_global.22888.0.241\",\"memtrace_rpd_default_global.22888.0.77\",\"memtrace_rpd_default_global.22888.0.109\",\"memtrace_rpd_default_global.22888.0.176\",\"memtrace_rpd_default_global.22888.0.242\",\"memtrace_rpd_default_global.22888.0.78\",\"memtrace_rpd_default_global.22888.0.11\",\"memtrace_rpd_default_global.22888.0.177\",\"memtrace_rpd_default_global.22888.0.243\",\"memtrace_rpd_default_global.22888.0.79\",\"memtrace_rpd_default_global.22888.0.110\",\"memtrace_rpd_default_global.22888.0.178\",\"memtrace_rpd_default_global.22888.0.244\",\"memtrace_rpd_default_global.22888.0.8\",\"memtrace_rpd_default_global.22888.0.111\",\"memtrace_rpd_default_global.22888.0.179\",\"memtrace_rpd_default_global.22888.0.245\",\"memtrace_rpd_default_global.22888.0.80\",\"memtrace_rpd_default_global.22888.0.112\",\"memtrace_rpd_default_global.22888.0.18\",\"memtrace_rpd_default_global.22888.0.246\",\"memtrace_rpd_default_global.22888.0.81\",\"memtrace_rpd_default_global.22888.0.113\",\"memtrace_rpd_default_global.22888.0.180\",\"memtrace_rpd_default_global.22888.0.247\",\"memtrace_rpd_default_global.22888.0.82\",\"memtrace_rpd_default_global.22888.0.114\",\"memtrace_rpd_default_global.22888.0.181\",\"memtrace_rpd_default_global.22888.0.248\",\"memtrace_rpd_default_global.22888.0.83\",\"memtrace_rpd_default_global.22888.0.115\",\"memtrace_rpd_default_global.22888.0.182\",\"memtrace_rpd_default_global.22888.0.249\",\"memtrace_rpd_default_global.22888.0.84\",\"memtrace_rpd_default_global.22888.0.116\",\"memtrace_rpd_default_global.22888.0.183\",\"memtrace_rpd_default_global.22888.0.25\",\"memtrace_rpd_default_global.22888.0.85\",\"memtrace_rpd_default_global.22888.0.117\",\"memtrace_rpd_default_global.22888.0.184\",\"memtrace_rpd_default_global.22888.0.250\",\"memtrace_rpd_default_global.22888.0.86\",\"memtrace_rpd_default_global.22888.0.118\",\"memtrace_rpd_default_global.22888.0.185\",\"memtrace_rpd_default_global.22888.0.251\",\"memtrace_rpd_default_global.22888.0.87\",\"memtrace_rpd_default_global.22888.0.119\",\"memtrace_rpd_default_global.22888.0.186\",\"memtrace_rpd_default_global.22888.0.252\",\"memtrace_rpd_default_global.22888.0.88\",\"memtrace_rpd_default_global.22888.0.12\",\"memtrace_rpd_default_global.22888.0.187\",\"memtrace_rpd_default_global.22888.0.253\",\"memtrace_rpd_default_global.22888.0.89\",\"memtrace_rpd_default_global.22888.0.120\",\"memtrace_rpd_default_global.22888.0.188\",\"memtrace_rpd_default_global.22888.0.254\",\"memtrace_rpd_default_global.22888.0.9\",\"memtrace_rpd_default_global.22888.0.121\",\"memtrace_rpd_default_global.22888.0.189\",\"memtrace_rpd_default_global.22888.0.255\",\"memtrace_rpd_default_global.22888.0.90\",\"memtrace_rpd_default_global.22888.0.122\",\"memtrace_rpd_default_global.22888.0.19\",\"memtrace_rpd_default_global.22888.0.256\",\"memtrace_rpd_default_global.22888.0.91\",\"memtrace_rpd_default_global.22888.0.123\",\"memtrace_rpd_default_global.22888.0.190\",\"memtrace_rpd_default_global.22888.0.257\",\"memtrace_rpd_default_global.22888.0.92\",\"memtrace_rpd_default_global.22888.0.124\",\"memtrace_rpd_default_global.22888.0.191\",\"memtrace_rpd_default_global.22888.0.26\",\"memtrace_rpd_default_global.22888.0.93\",\"memtrace_rpd_default_global.22888.0.125\",\"memtrace_rpd_default_global.22888.0.192\",\"memtrace_rpd_default_global.22888.0.27\",\"memtrace_rpd_default_global.22888.0.94\",\"memtrace_rpd_default_global.22888.0.126\",\"memtrace_rpd_default_global.22888.0.193\",\"memtrace_rpd_default_global.22888.0.28\",\"memtrace_rpd_default_global.22888.0.95\",\"memtrace_rpd_default_global.22888.0.127\",\"memtrace_rpd_default_global.22888.0.194\",\"memtrace_rpd_default_global.22888.0.29\",\"memtrace_rpd_default_global.22888.0.96\",\"memtrace_rpd_default_global.22888.0.128\",\"memtrace_rpd_default_global.22888.0.195\",\"memtrace_rpd_default_global.22888.0.3\",\"memtrace_rpd_default_global.22888.0.97\",\"memtrace_rpd_default_global.22888.0.129\",\"memtrace_rpd_default_global.22888.0.196\",\"memtrace_rpd_default_global.22888.0.30\",\"memtrace_rpd_default_global.22888.0.98\",\"memtrace_rpd_default_global.22888.0.13\",\"memtrace_rpd_default_global.22888.0.197\",\"memtrace_rpd_default_global.22888.0.31\",\"memtrace_rpd_default_global.22888.0.99\",\"memtrace_rpd_default_global.22888.0.130\",\"memtrace_rpd_default_global.22888.0.198\",\"memtrace_rpd_default_global.22888.0.32\",\"memtrace_rpd_default_global.22999.0.0\",\"memtrace_rpd_default_global.22888.0.131\",\"memtrace_rpd_default_global.22888.0.199\",\"memtrace_rpd_default_global.22888.0.33\",\"memtrace_rpd_default_global.22999.0.1\",\"memtrace_rpd_default_global.22888.0.132\",\"memtrace_rpd_default_global.22888.0.2\",\"memtrace_rpd_default_global.22888.0.34\",\"memtrace_rpd_default_global.22999.0.2\",\"memtrace_rpd_default_global.22888.0.133\",\"memtrace_rpd_default_global.22888.0.20\",\"memtrace_rpd_default_global.22888.0.35\",\"memtrace_rpd_default_global.22888.0.134\",\"memtrace_rpd_default_global.22888.0.200\",\"memtrace_rpd_default_global.22888.0.36\",\"memtrace_rpd_default_global.22888.0.135\",\"memtrace_rpd_default_global.22888.0.201\",\"memtrace_rpd_default_global.22888.0.37\",\"memtrace_rpd_default_global.22888.0.136\",\"memtrace_rpd_default_global.22888.0.202\",\"memtrace_rpd_default_global.22888.0.38\",\"memtrace_rpd_default_global.22888.0.137\",\"memtrace_rpd_default_global.22888.0.203\",\"memtrace_rpd_default_global.22888.0.39\",\"memtrace_rpd_default_global.22888.0.138\",\"memtrace_rpd_default_global.22888.0.204\",\"memtrace_rpd_default_global.22888.0.4\",\"memtrace_rpd_default_global.22888.0.139\",\"memtrace_rpd_default_global.22888.0.205\",\"memtrace_rpd_default_global.22888.0.40\",\"memtrace_rpd_default_global.22888.0.14\",\"memtrace_rpd_default_global.22888.0.206\",\"memtrace_rpd_default_global.22888.0.41\",\"memtrace_rpd_default_global.22888.0.140\",\"memtrace_rpd_default_global.22888.0.207\",\"memtrace_rpd_default_global.22888.0.42\",\"memtrace_rpd_default_global.22888.0.141\",\"memtrace_rpd_default_global.22888.0.208\",\"memtrace_rpd_default_global.22888.0.43\",\"memtrace_rpd_default_global.22888.0.142\",\"memtrace_rpd_default_global.22888.0.209\",\"memtrace_rpd_default_global.22888.0.44\",\"memtrace_rpd_default_global.22888.0.143\",\"memtrace_rpd_default_global.22888.0.21\",\"memtrace_rpd_default_global.22888.0.45\",\"memtrace_rpd_default_global.22888.0.144\",\"memtrace_rpd_default_global.22888.0.210\",\"memtrace_rpd_default_global.22888.0.46\",\"memtrace_rpd_default_global.22888.0.145\",\"memtrace_rpd_default_global.22888.0.211\",\"memtrace_rpd_default_global.22888.0.47\",\"memtrace_rpd_default_global.22888.0.146\",\"memtrace_rpd_default_global.22888.0.212\",\"memtrace_rpd_default_global.22888.0.48\",\"memtrace_rpd_default_global.22888.0.147\",\"memtrace_rpd_default_global.22888.0.213\",\"memtrace_rpd_default_global.22888.0.49\",\"memtrace_rpd_default_global.22888.0.148\",\"memtrace_rpd_default_global.22888.0.214\",\"memtrace_rpd_default_global.22888.0.5\",\"memtrace_rpd_default_global.22888.0.149\",\"memtrace_rpd_default_global.22888.0.215\",\"memtrace_rpd_default_global.22888.0.50\",\"memtrace_rpd_default_global.22888.0.15\",\"memtrace_rpd_default_global.22888.0.216\",\"memtrace_rpd_default_global.22888.0.51\",\"memtrace_rpd_default_global.22888.0.150\",\"memtrace_rpd_default_global.22888.0.217\",\"memtrace_rpd_default_global.22888.0.52\",\"memtrace_rpd_default_global.22888.0.151\",\"memtrace_rpd_default_global.22888.0.218\",\"memtrace_rpd_default_global.22888.0.53\",\"memtrace_rpd_default_global.22888.0.152\",\n",
    "     \"memtrace_rpd_default_global.22888.0.219\",\"memtrace_rpd_default_global.22888.0.54\",\"memtrace_rpd_default_global.22888.0.153\",\"memtrace_rpd_default_global.22888.0.22\",\"memtrace_rpd_default_global.22888.0.55\",\"memtrace_rpd_default_global.22888.0.154\",\"memtrace_rpd_default_global.22888.0.220\",\"memtrace_rpd_default_global.22888.0.56\",\"memtrace_rpd_default_global.22888.0.155\",\"memtrace_rpd_default_global.22888.0.221\",\"memtrace_rpd_default_global.22888.0.57\",\"memtrace_rpd_default_global.22888.0.156\",\"memtrace_rpd_default_global.22888.0.222\",\"memtrace_rpd_default_global.22888.0.58\",\"memtrace_rpd_default_global.22888.0.157\",\"memtrace_rpd_default_global.22888.0.223\",\"memtrace_rpd_default_global.22888.0.59\",\"memtrace_rpd_default_global.22888.0.158\",\"memtrace_rpd_default_global.22888.0.224\",\"memtrace_rpd_default_global.22888.0.6\"]\n",
    "sort_nicely(l)"
   ]
  },
  {
   "cell_type": "code",
   "execution_count": null,
   "id": "4db882b9-ba54-4ead-b3d0-8a737224d86d",
   "metadata": {},
   "outputs": [],
   "source": []
  }
 ],
 "metadata": {
  "kernelspec": {
   "display_name": "Python 3",
   "language": "python",
   "name": "python3"
  },
  "language_info": {
   "codemirror_mode": {
    "name": "ipython",
    "version": 3
   },
   "file_extension": ".py",
   "mimetype": "text/x-python",
   "name": "python",
   "nbconvert_exporter": "python",
   "pygments_lexer": "ipython3",
   "version": "3.8.8"
  }
 },
 "nbformat": 4,
 "nbformat_minor": 5
}
